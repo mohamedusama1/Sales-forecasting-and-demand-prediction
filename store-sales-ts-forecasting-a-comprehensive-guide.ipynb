{
 "cells": [
  {
   "cell_type": "markdown",
   "id": "84b9d6c5",
   "metadata": {
    "papermill": {
     "duration": 0.054054,
     "end_time": "2021-10-30T21:33:33.933258",
     "exception": false,
     "start_time": "2021-10-30T21:33:33.879204",
     "status": "completed"
    },
    "tags": []
   },
   "source": [
    "There are **54 stores** and **33 prodcut families** in the data. The time serie starts from **2013-01-01** and finishes in **2017-08-31**. However, you know that Kaggle gives us splitted two data as train and test. The dates in the test data are for the **15 days** after the last date in the training data. Date range in the test data will be very important to us while we are defining a cross-validation strategy and creating new features.\n",
    "\n",
    "***Our main mission in this competition is, predicting sales for each product family and store combinations.***\n",
    "\n",
    "There are 6 data that we will study on them step by step.\n",
    "1. *Train*\n",
    "2. *Test*\n",
    "3. *Store*\n",
    "4. *Transactions* \n",
    "5. *Holidays and Events*\n",
    "6. *Daily Oil Price*\n",
    "\n",
    "**<code>The train data</code>** contains time series of the stores and the product families combination. The sales column gives the total sales for a product family at a particular store at a given date. Fractional values are possible since products can be sold in fractional units (1.5 kg of cheese, for instance, as opposed to 1 bag of chips).The onpromotion column gives the total number of items in a product family that were being promoted at a store at a given date.\n",
    "\n",
    "**<code>Stores data</code>** gives some information about stores such as city, state, type, cluster.\n",
    "\n",
    "**<code>Transaction data</code>** is highly correlated with train's sales column. You can understand the sales patterns of the stores.\n",
    "\n",
    "**<code>Holidays and events data</code>** is a meta data. This data is quite valuable to understand past sales, trend and seasonality components. However, it needs to be arranged. You are going to find a comprehensive data manipulation for this data. That part will be one of the most important chapter in this notebook.\n",
    "\n",
    "**<code>Daily Oil Price data</code>** is another data which will help us. Ecuador is an oil-dependent country and it's economical health is highly vulnerable to shocks in oil prices. That's why, it will help us to understand which product families affected in positive or negative way by oil price.\n",
    "\n",
    "#### When you look at the data description, you will see \"Additional Notes\". These notes may be significant to catch some patterns or anomalies. I'm sharing them with you to remember.\n",
    "- Wages in the public sector are paid every two weeks on the 15 th and on the last day of the month. Supermarket sales could be affected by this.\n",
    "- A magnitude 7.8 earthquake struck Ecuador on April 16, 2016. People rallied in relief efforts donating water and other first need products which greatly affected supermarket sales for several weeks after the earthquake.\n",
    "\n",
    "<center><h2> Let's start! </h2> </center>\n",
    "\n",
    "<center><img src=\"https://media.istockphoto.com/photos/flag-and-church-in-guayaquil-picture-id481766414?k=20&m=481766414&s=612x612&w=0&h=s8CFr9trtS6Dc3XlecsV1yTzw4FrUQR97ScDbym33jc=\" style=\"width:70%;height:10%;\"></center>\n"
   ]
  },
  {
   "cell_type": "markdown",
   "id": "20ffdb73",
   "metadata": {
    "papermill": {
     "duration": 0.052176,
     "end_time": "2021-10-30T21:33:34.037571",
     "exception": false,
     "start_time": "2021-10-30T21:33:33.985395",
     "status": "completed"
    },
    "tags": []
   },
   "source": [
    "# 1. Packages\n",
    "\n",
    "You can find the packages below what I used."
   ]
  },
  {
   "cell_type": "code",
   "execution_count": null,
   "id": "ec58ece4",
   "metadata": {
    "_kg_hide-input": true,
    "execution": {
     "iopub.execute_input": "2021-10-30T21:33:34.147479Z",
     "iopub.status.busy": "2021-10-30T21:33:34.146224Z",
     "iopub.status.idle": "2021-10-30T21:33:37.233841Z",
     "shell.execute_reply": "2021-10-30T21:33:37.232739Z",
     "shell.execute_reply.started": "2021-10-30T20:14:29.821165Z"
    },
    "jupyter": {
     "source_hidden": true
    },
    "papermill": {
     "duration": 3.143794,
     "end_time": "2021-10-30T21:33:37.234018",
     "exception": false,
     "start_time": "2021-10-30T21:33:34.090224",
     "status": "completed"
    },
    "tags": []
   },
   "outputs": [],
   "source": [
    "# BASE\n",
    "# ------------------------------------------------------\n",
    "import numpy as np\n",
    "import pandas as pd\n",
    "import os\n",
    "import gc\n",
    "import warnings\n",
    "\n",
    "# PACF - ACF\n",
    "# ------------------------------------------------------\n",
    "import statsmodels.api as sm\n",
    "\n",
    "# DATA VISUALIZATION\n",
    "# ------------------------------------------------------\n",
    "import matplotlib.pyplot as plt\n",
    "import seaborn as sns\n",
    "import plotly.express as px\n",
    "\n",
    "\n",
    "# CONFIGURATIONS\n",
    "# ------------------------------------------------------\n",
    "pd.set_option('display.max_columns', None)\n",
    "pd.options.display.float_format = '{:.2f}'.format\n",
    "warnings.filterwarnings('ignore')"
   ]
  },
  {
   "cell_type": "markdown",
   "id": "af0d1003",
   "metadata": {
    "papermill": {
     "duration": 0.051485,
     "end_time": "2021-10-30T21:33:37.397846",
     "exception": false,
     "start_time": "2021-10-30T21:33:37.346361",
     "status": "completed"
    },
    "tags": []
   },
   "source": [
    "# 2. Importing Data"
   ]
  },
  {
   "cell_type": "code",
   "execution_count": null,
   "id": "99e47d36",
   "metadata": {
    "_kg_hide-input": true,
    "execution": {
     "iopub.execute_input": "2021-10-30T21:33:37.505522Z",
     "iopub.status.busy": "2021-10-30T21:33:37.504867Z",
     "iopub.status.idle": "2021-10-30T21:33:41.427753Z",
     "shell.execute_reply": "2021-10-30T21:33:41.427047Z",
     "shell.execute_reply.started": "2021-10-30T20:14:34.097150Z"
    },
    "papermill": {
     "duration": 3.977922,
     "end_time": "2021-10-30T21:33:41.427912",
     "exception": false,
     "start_time": "2021-10-30T21:33:37.449990",
     "status": "completed"
    },
    "tags": []
   },
   "outputs": [],
   "source": [
    "# Import\n",
    "train = pd.read_csv(\"./train.csv\")\n",
    "test = pd.read_csv(\"./test.csv\")\n",
    "stores = pd.read_csv(\"./stores.csv\")\n",
    "transactions = pd.read_csv(\"./transactions.csv\").sort_values([\"store_nbr\", \"date\"])\n",
    "\n",
    "\n",
    "# Datetime\n",
    "train[\"date\"] = pd.to_datetime(train.date)\n",
    "test[\"date\"] = pd.to_datetime(test.date)\n",
    "transactions[\"date\"] = pd.to_datetime(transactions.date)\n",
    "\n",
    "# Data types\n",
    "train.onpromotion = train.onpromotion.astype(\"float16\")\n",
    "train.sales = train.sales.astype(\"float32\")\n",
    "stores.cluster = stores.cluster.astype(\"int8\")\n",
    "\n",
    "train.head()"
   ]
  },
  {
   "cell_type": "markdown",
   "id": "2e30d0b9",
   "metadata": {
    "papermill": {
     "duration": 0.05337,
     "end_time": "2021-10-30T21:33:41.537383",
     "exception": false,
     "start_time": "2021-10-30T21:33:41.484013",
     "status": "completed"
    },
    "tags": []
   },
   "source": [
    "# 3. Transactions\n",
    "\n",
    "**Let's start with the transaction data**"
   ]
  },
  {
   "cell_type": "code",
   "execution_count": null,
   "id": "d786b897",
   "metadata": {
    "_kg_hide-input": true,
    "execution": {
     "iopub.execute_input": "2021-10-30T21:33:41.656399Z",
     "iopub.status.busy": "2021-10-30T21:33:41.655647Z",
     "iopub.status.idle": "2021-10-30T21:33:41.659474Z",
     "shell.execute_reply": "2021-10-30T21:33:41.658967Z",
     "shell.execute_reply.started": "2021-10-30T20:14:38.960314Z"
    },
    "jupyter": {
     "source_hidden": true
    },
    "papermill": {
     "duration": 0.067301,
     "end_time": "2021-10-30T21:33:41.659637",
     "exception": false,
     "start_time": "2021-10-30T21:33:41.592336",
     "status": "completed"
    },
    "tags": []
   },
   "outputs": [],
   "source": [
    "transactions.head(10)"
   ]
  },
  {
   "cell_type": "markdown",
   "id": "750361ce",
   "metadata": {
    "papermill": {
     "duration": 0.053164,
     "end_time": "2021-10-30T21:33:41.766174",
     "exception": false,
     "start_time": "2021-10-30T21:33:41.713010",
     "status": "completed"
    },
    "tags": []
   },
   "source": [
    "This feature is highly correlated with sales but first, you are supposed to sum the sales feature to find relationship. Transactions means how many people came to the store or how many invoices created in a day.\n",
    "\n",
    "Sales gives the total sales for a product family at a particular store at a given date. Fractional values are possible since products can be sold in fractional units (1.5 kg of cheese, for instance, as opposed to 1 bag of chips).\n",
    "\n",
    "That's why, transactions will be one of the relevant features in the model. In the following sections, we will generate new features by using transactions."
   ]
  },
  {
   "cell_type": "code",
   "execution_count": null,
   "id": "97b08a90",
   "metadata": {
    "_kg_hide-input": true,
    "execution": {
     "iopub.execute_input": "2021-10-30T21:33:41.880221Z",
     "iopub.status.busy": "2021-10-30T21:33:41.879397Z",
     "iopub.status.idle": "2021-10-30T21:33:46.663968Z",
     "shell.execute_reply": "2021-10-30T21:33:46.664562Z",
     "shell.execute_reply.started": "2021-10-30T20:14:38.983011Z"
    },
    "jupyter": {
     "source_hidden": true
    },
    "papermill": {
     "duration": 4.84529,
     "end_time": "2021-10-30T21:33:46.664761",
     "exception": false,
     "start_time": "2021-10-30T21:33:41.819471",
     "status": "completed"
    },
    "tags": []
   },
   "outputs": [],
   "source": [
    "temp = pd.merge(train.groupby([\"date\", \"store_nbr\"]).sales.sum().reset_index(), transactions, how = \"left\")\n",
    "print(\"Spearman Correlation between Total Sales and Transactions: {:,.4f}\".format(temp.corr(\"spearman\").sales.loc[\"transactions\"]))\n",
    "px.line(transactions.sort_values([\"store_nbr\", \"date\"]), x='date', y='transactions', color='store_nbr',title = \"Transactions\" )"
   ]
  },
  {
   "cell_type": "markdown",
   "id": "7d04c4b6",
   "metadata": {
    "papermill": {
     "duration": 0.102086,
     "end_time": "2021-10-30T21:33:46.871771",
     "exception": false,
     "start_time": "2021-10-30T21:33:46.769685",
     "status": "completed"
    },
    "tags": []
   },
   "source": [
    "There is a stable pattern in Transaction. All months are similar except December from 2013 to 2017 by boxplot. In addition, we've just seen same pattern for each store in previous plot. Store sales had always increased at the end of the year."
   ]
  },
  {
   "cell_type": "code",
   "execution_count": null,
   "id": "fad9354c",
   "metadata": {
    "_kg_hide-input": true,
    "execution": {
     "iopub.execute_input": "2021-10-30T21:33:47.090619Z",
     "iopub.status.busy": "2021-10-30T21:33:47.089870Z",
     "iopub.status.idle": "2021-10-30T21:33:47.682679Z",
     "shell.execute_reply": "2021-10-30T21:33:47.683221Z",
     "shell.execute_reply.started": "2021-10-30T20:14:44.431017Z"
    },
    "jupyter": {
     "source_hidden": true
    },
    "papermill": {
     "duration": 0.707935,
     "end_time": "2021-10-30T21:33:47.683397",
     "exception": false,
     "start_time": "2021-10-30T21:33:46.975462",
     "status": "completed"
    },
    "tags": []
   },
   "outputs": [],
   "source": [
    "a = transactions.copy()\n",
    "a[\"year\"] = a.date.dt.year\n",
    "a[\"month\"] = a.date.dt.month\n",
    "px.box(a, x=\"year\", y=\"transactions\" , color = \"month\", title = \"Transactions\")"
   ]
  },
  {
   "cell_type": "markdown",
   "id": "4bd64778",
   "metadata": {
    "papermill": {
     "duration": 0.124164,
     "end_time": "2021-10-30T21:33:47.931870",
     "exception": false,
     "start_time": "2021-10-30T21:33:47.807706",
     "status": "completed"
    },
    "tags": []
   },
   "source": [
    "**Let's take a look at transactions by using monthly average sales!**\n",
    "\n",
    " We've just learned a pattern what increases sales. It was the end of the year. We can see that transactions increase in spring and decrease after spring."
   ]
  },
  {
   "cell_type": "code",
   "execution_count": null,
   "id": "40fae373",
   "metadata": {
    "_kg_hide-input": true,
    "execution": {
     "iopub.execute_input": "2021-10-30T21:33:48.187722Z",
     "iopub.status.busy": "2021-10-30T21:33:48.187013Z",
     "iopub.status.idle": "2021-10-30T21:33:48.312953Z",
     "shell.execute_reply": "2021-10-30T21:33:48.312183Z",
     "shell.execute_reply.started": "2021-10-30T20:14:45.138563Z"
    },
    "jupyter": {
     "source_hidden": true
    },
    "papermill": {
     "duration": 0.256519,
     "end_time": "2021-10-30T21:33:48.313123",
     "exception": false,
     "start_time": "2021-10-30T21:33:48.056604",
     "status": "completed"
    },
    "tags": []
   },
   "outputs": [],
   "source": [
    "a = transactions.set_index(\"date\").resample(\"M\").transactions.mean().reset_index()\n",
    "a[\"year\"] = a.date.dt.year\n",
    "px.line(a, x='date', y='transactions', color='year',title = \"Monthly Average Transactions\" )"
   ]
  },
  {
   "cell_type": "markdown",
   "id": "d0c862b5",
   "metadata": {
    "papermill": {
     "duration": 0.12096,
     "end_time": "2021-10-30T21:33:48.557302",
     "exception": false,
     "start_time": "2021-10-30T21:33:48.436342",
     "status": "completed"
    },
    "tags": []
   },
   "source": [
    "When we look at their relationship, we can see that there is a highly correlation between total sales and transactions also. "
   ]
  },
  {
   "cell_type": "code",
   "execution_count": null,
   "id": "57bbdfe9",
   "metadata": {
    "_kg_hide-input": true,
    "execution": {
     "iopub.execute_input": "2021-10-30T21:33:48.838119Z",
     "iopub.status.busy": "2021-10-30T21:33:48.837074Z",
     "iopub.status.idle": "2021-10-30T21:33:49.496739Z",
     "shell.execute_reply": "2021-10-30T21:33:49.497326Z",
     "shell.execute_reply.started": "2021-10-30T20:14:45.314219Z"
    },
    "jupyter": {
     "source_hidden": true
    },
    "papermill": {
     "duration": 0.817244,
     "end_time": "2021-10-30T21:33:49.497529",
     "exception": false,
     "start_time": "2021-10-30T21:33:48.680285",
     "status": "completed"
    },
    "tags": []
   },
   "outputs": [],
   "source": [
    "px.scatter(temp, x = \"transactions\", y = \"sales\", trendline = \"ols\", trendline_color_override = \"red\")"
   ]
  },
  {
   "cell_type": "markdown",
   "id": "857ca03b",
   "metadata": {
    "papermill": {
     "duration": 0.198858,
     "end_time": "2021-10-30T21:33:49.902698",
     "exception": false,
     "start_time": "2021-10-30T21:33:49.703840",
     "status": "completed"
    },
    "tags": []
   },
   "source": [
    "The days of week is very important for shopping. It shows us a great pattern. Stores make more transactions at weekends. Almost, the patterns are same from 2013 to 2017 and Saturday is the most important day for shopping."
   ]
  },
  {
   "cell_type": "code",
   "execution_count": null,
   "id": "ecaf5c3e",
   "metadata": {
    "_kg_hide-input": true,
    "execution": {
     "iopub.execute_input": "2021-10-30T21:33:50.314036Z",
     "iopub.status.busy": "2021-10-30T21:33:50.313287Z",
     "iopub.status.idle": "2021-10-30T21:33:50.418861Z",
     "shell.execute_reply": "2021-10-30T21:33:50.418192Z",
     "shell.execute_reply.started": "2021-10-30T20:14:46.361293Z"
    },
    "jupyter": {
     "source_hidden": true
    },
    "papermill": {
     "duration": 0.314469,
     "end_time": "2021-10-30T21:33:50.419017",
     "exception": false,
     "start_time": "2021-10-30T21:33:50.104548",
     "status": "completed"
    },
    "tags": []
   },
   "outputs": [],
   "source": [
    "a = transactions.copy()\n",
    "a[\"year\"] = a.date.dt.year\n",
    "a[\"dayofweek\"] = a.date.dt.dayofweek+1\n",
    "a = a.groupby([\"year\", \"dayofweek\"]).transactions.mean().reset_index()\n",
    "px.line(a, x=\"dayofweek\", y=\"transactions\" , color = \"year\", title = \"Transactions\")"
   ]
  },
  {
   "cell_type": "markdown",
   "id": "da9d8d02",
   "metadata": {
    "papermill": {
     "duration": 0.209845,
     "end_time": "2021-10-30T21:33:50.830386",
     "exception": false,
     "start_time": "2021-10-30T21:33:50.620541",
     "status": "completed"
    },
    "tags": []
   },
   "source": [
    "# 4. Oil Price\n",
    "\n",
    "\n",
    "The economy is one of the biggest problem for the governments and people. It affects all of things in a good or bad way. In our case, Ecuador is an oil-dependent country. Changing oil prices in Ecuador will cause a variance in the model. I researched Ecuador's economy to be able to understand much better and I found an article from IMF. You are supposed to read it if you want to make better models by using oil data.\n",
    "\n",
    "- https://www.imf.org/en/News/Articles/2019/03/20/NA032119-Ecuador-New-Economic-Plan-Explained\n",
    "\n",
    "<br>\n",
    "\n",
    "<center><img src=\"https://github.com/EkremBayar/Kaggle/blob/main/Images/imf_sf.PNG?raw=true\" style=\"width:50%;height:10%;\"></center>\n",
    "\n",
    "<br>\n",
    "\n",
    "There are some missing data points in the daily oil data as you can see below. You can treat the data by using various imputation methods. However, I chose a simple solution for that. Linear Interpolation is suitable for this time serie. You can see the trend and predict missing data points, when you look at a time serie plot of oil price."
   ]
  },
  {
   "cell_type": "code",
   "execution_count": null,
   "id": "ccdcd758",
   "metadata": {
    "_kg_hide-input": true,
    "execution": {
     "iopub.execute_input": "2021-10-30T21:33:51.242318Z",
     "iopub.status.busy": "2021-10-30T21:33:51.241219Z",
     "iopub.status.idle": "2021-10-30T21:33:51.454706Z",
     "shell.execute_reply": "2021-10-30T21:33:51.455237Z",
     "shell.execute_reply.started": "2021-10-30T20:14:46.510751Z"
    },
    "jupyter": {
     "source_hidden": true
    },
    "papermill": {
     "duration": 0.418634,
     "end_time": "2021-10-30T21:33:51.455418",
     "exception": false,
     "start_time": "2021-10-30T21:33:51.036784",
     "status": "completed"
    },
    "tags": []
   },
   "outputs": [],
   "source": [
    "# 📥 Import \n",
    "oil = pd.read_csv(\"./oil.csv\")\n",
    "oil[\"date\"] = pd.to_datetime(oil.date)\n",
    "\n",
    "# 📅 Resample (to daily frequency)\n",
    "oil = oil.set_index(\"date\").dcoilwtico.resample(\"D\").sum().reset_index()\n",
    "\n",
    "# ⚡ Handle missing and zero values\n",
    "oil[\"dcoilwtico\"] = np.where(oil[\"dcoilwtico\"] == 0, np.nan, oil[\"dcoilwtico\"])\n",
    "\n",
    "# 🔄 Interpolate inside gaps\n",
    "oil[\"dcoilwtico_interpolated\"] = oil[\"dcoilwtico\"].interpolate()\n",
    "\n",
    "# 🔙 Backfill beginning NaNs\n",
    "oil[\"dcoilwtico_interpolated\"] = oil[\"dcoilwtico_interpolated\"].fillna(method='bfill')\n",
    "\n",
    "# 🎨 Plot\n",
    "p = oil.melt(id_vars=['date'], value_vars=[\"dcoilwtico_interpolated\"], var_name='Legend')\n",
    "px.line(\n",
    "    p.sort_values([\"Legend\", \"date\"], ascending=[False, True]),\n",
    "    x='date', y='value', color='Legend', title=\"Daily Oil Price\"\n",
    ")\n"
   ]
  },
  {
   "cell_type": "markdown",
   "id": "5b1f5124",
   "metadata": {
    "papermill": {
     "duration": 0.19684,
     "end_time": "2021-10-30T21:33:51.854143",
     "exception": false,
     "start_time": "2021-10-30T21:33:51.657303",
     "status": "completed"
    },
    "tags": []
   },
   "source": [
    "**I just said, \"Ecuador is a oil-dependent country\" but is it true? Can we really see that from the data by looking at?**\n",
    "\n",
    "First of all, let's look at the correlations for sales and transactions. The correlation values are not strong but the sign of sales is negative. Maybe, we can catch a clue. Logically, if daily oil price is high, we expect that the Ecuador's economy is bad and it means the price of product increases and sales decreases. There is a negative relationship here.  "
   ]
  },
  {
   "cell_type": "code",
   "execution_count": null,
   "id": "d6b21e8f",
   "metadata": {
    "_kg_hide-input": true,
    "execution": {
     "iopub.execute_input": "2021-10-30T21:33:52.270563Z",
     "iopub.status.busy": "2021-10-30T21:33:52.269514Z",
     "iopub.status.idle": "2021-10-30T21:33:53.272675Z",
     "shell.execute_reply": "2021-10-30T21:33:53.273361Z",
     "shell.execute_reply.started": "2021-10-30T20:14:46.772289Z"
    },
    "jupyter": {
     "source_hidden": true
    },
    "papermill": {
     "duration": 1.213918,
     "end_time": "2021-10-30T21:33:53.273572",
     "exception": false,
     "start_time": "2021-10-30T21:33:52.059654",
     "status": "completed"
    },
    "tags": []
   },
   "outputs": [],
   "source": [
    "temp = pd.merge(temp, oil, how = \"left\")\n",
    "print(\"Correlation with Daily Oil Prices\")\n",
    "print(temp.drop([\"store_nbr\", \"dcoilwtico\"], axis = 1).corr(\"spearman\").dcoilwtico_interpolated.loc[[\"sales\", \"transactions\"]], \"\\n\")\n",
    "\n",
    "\n",
    "fig, axes = plt.subplots(1, 2, figsize = (15,5))\n",
    "temp.plot.scatter(x = \"dcoilwtico_interpolated\", y = \"transactions\", ax=axes[0])\n",
    "temp.plot.scatter(x = \"dcoilwtico_interpolated\", y = \"sales\", ax=axes[1], color = \"r\")\n",
    "axes[0].set_title('Daily oil price & Transactions', fontsize = 15)\n",
    "axes[1].set_title('Daily Oil Price & Sales', fontsize = 15);"
   ]
  },
  {
   "cell_type": "markdown",
   "id": "fd27a3eb",
   "metadata": {
    "papermill": {
     "duration": 0.204088,
     "end_time": "2021-10-30T21:33:53.684030",
     "exception": false,
     "start_time": "2021-10-30T21:33:53.479942",
     "status": "completed"
    },
    "tags": []
   },
   "source": [
    "You should never decide what you will do by looking at a graph or result! You are supposed to change your view and define new hypotheses.\n",
    "\n",
    "We would have been wrong if we had looked at some simple outputs just like above and we had said that there is no relationship with oil prices and let's not use oil price data.\n",
    "\n",
    "All right! We are aware of analyzing deeply now. Let's draw a scatter plot but let's pay attention for product families this time. All of the plots almost contains same pattern. When daily oil price is under about 70, there are more sales in the data. There are 2 cluster here. They are over 70 and under 70. It seems pretty understandable actually. \n",
    "\n",
    "We are in a good way I think. What do you think? Just now, we couldn't see a pattern for daily oil price, but now we extracted a new pattern from it."
   ]
  },
  {
   "cell_type": "code",
   "execution_count": null,
   "id": "c7b29468",
   "metadata": {
    "_kg_hide-input": true,
    "execution": {
     "iopub.execute_input": "2021-10-30T21:33:54.272930Z",
     "iopub.status.busy": "2021-10-30T21:33:54.272071Z",
     "iopub.status.idle": "2021-10-30T21:34:00.516408Z",
     "shell.execute_reply": "2021-10-30T21:34:00.516957Z",
     "shell.execute_reply.started": "2021-10-30T20:14:48.014774Z"
    },
    "jupyter": {
     "source_hidden": true
    },
    "papermill": {
     "duration": 6.622053,
     "end_time": "2021-10-30T21:34:00.517149",
     "exception": false,
     "start_time": "2021-10-30T21:33:53.895096",
     "status": "completed"
    },
    "tags": []
   },
   "outputs": [],
   "source": [
    "a = pd.merge(train.groupby([\"date\", \"family\"]).sales.sum().reset_index(), oil.drop(\"dcoilwtico\", axis = 1), how = \"left\")\n",
    "c = a.groupby(\"family\").corr(\"spearman\").reset_index()\n",
    "c = c[c.level_1 == \"dcoilwtico_interpolated\"][[\"family\", \"sales\"]].sort_values(\"sales\")\n",
    "\n",
    "fig, axes = plt.subplots(7, 5, figsize = (20,20))\n",
    "for i, fam in enumerate(c.family):\n",
    "    if i < 6:\n",
    "        a[a.family == fam].plot.scatter(x = \"dcoilwtico_interpolated\", y = \"sales\", ax=axes[0, i-1])\n",
    "        axes[0, i-1].set_title(fam+\"\\n Correlation:\"+str(c[c.family == fam].sales.iloc[0])[:6], fontsize = 12)\n",
    "        axes[0, i-1].axvline(x=70, color='r', linestyle='--')\n",
    "    if i >= 6 and i<11:\n",
    "        a[a.family == fam].plot.scatter(x = \"dcoilwtico_interpolated\", y = \"sales\", ax=axes[1, i-6])\n",
    "        axes[1, i-6].set_title(fam+\"\\n Correlation:\"+str(c[c.family == fam].sales.iloc[0])[:6], fontsize = 12)\n",
    "        axes[1, i-6].axvline(x=70, color='r', linestyle='--')\n",
    "    if i >= 11 and i<16:\n",
    "        a[a.family == fam].plot.scatter(x = \"dcoilwtico_interpolated\", y = \"sales\", ax=axes[2, i-11])\n",
    "        axes[2, i-11].set_title(fam+\"\\n Correlation:\"+str(c[c.family == fam].sales.iloc[0])[:6], fontsize = 12)\n",
    "        axes[2, i-11].axvline(x=70, color='r', linestyle='--')\n",
    "    if i >= 16 and i<21:\n",
    "        a[a.family == fam].plot.scatter(x = \"dcoilwtico_interpolated\", y = \"sales\", ax=axes[3, i-16])\n",
    "        axes[3, i-16].set_title(fam+\"\\n Correlation:\"+str(c[c.family == fam].sales.iloc[0])[:6], fontsize = 12)\n",
    "        axes[3, i-16].axvline(x=70, color='r', linestyle='--')\n",
    "    if i >= 21 and i<26:\n",
    "        a[a.family == fam].plot.scatter(x = \"dcoilwtico_interpolated\", y = \"sales\", ax=axes[4, i-21])\n",
    "        axes[4, i-21].set_title(fam+\"\\n Correlation:\"+str(c[c.family == fam].sales.iloc[0])[:6], fontsize = 12)\n",
    "        axes[4, i-21].axvline(x=70, color='r', linestyle='--')\n",
    "    if i >= 26 and i < 31:\n",
    "        a[a.family == fam].plot.scatter(x = \"dcoilwtico_interpolated\", y = \"sales\", ax=axes[5, i-26])\n",
    "        axes[5, i-26].set_title(fam+\"\\n Correlation:\"+str(c[c.family == fam].sales.iloc[0])[:6], fontsize = 12)\n",
    "        axes[5, i-26].axvline(x=70, color='r', linestyle='--')\n",
    "    if i >= 31 :\n",
    "        a[a.family == fam].plot.scatter(x = \"dcoilwtico_interpolated\", y = \"sales\", ax=axes[6, i-31])\n",
    "        axes[6, i-31].set_title(fam+\"\\n Correlation:\"+str(c[c.family == fam].sales.iloc[0])[:6], fontsize = 12)\n",
    "        axes[6, i-31].axvline(x=70, color='r', linestyle='--')\n",
    "        \n",
    "        \n",
    "plt.tight_layout(pad=5)\n",
    "plt.suptitle(\"Daily Oil Product & Total Family Sales \\n\", fontsize = 20);\n",
    "plt.show()\n",
    "        "
   ]
  },
  {
   "cell_type": "markdown",
   "id": "83cc3011",
   "metadata": {
    "papermill": {
     "duration": 0.214304,
     "end_time": "2021-10-30T21:34:00.945078",
     "exception": false,
     "start_time": "2021-10-30T21:34:00.730774",
     "status": "completed"
    },
    "tags": []
   },
   "source": [
    "# 5. Sales\n",
    "\n",
    "Our main objective is, predicting store sales for each product family. For this reason, sales column should be examined more seriously. We need to learn everthing such as seasonality, trends, anomalies, similarities with other time series and so on."
   ]
  },
  {
   "cell_type": "markdown",
   "id": "dd340af0",
   "metadata": {
    "papermill": {
     "duration": 0.215921,
     "end_time": "2021-10-30T21:34:01.379186",
     "exception": false,
     "start_time": "2021-10-30T21:34:01.163265",
     "status": "completed"
    },
    "tags": []
   },
   "source": [
    "Most of the stores are similar to each other, when we examine them with correlation matrix. Some stores, such as 20, 21, 22, and 52 may be a little different."
   ]
  },
  {
   "cell_type": "code",
   "execution_count": null,
   "id": "a10401c3",
   "metadata": {
    "_kg_hide-input": true,
    "execution": {
     "iopub.execute_input": "2021-10-30T21:34:01.843355Z",
     "iopub.status.busy": "2021-10-30T21:34:01.842461Z",
     "iopub.status.idle": "2021-10-30T21:34:09.422032Z",
     "shell.execute_reply": "2021-10-30T21:34:09.422564Z",
     "shell.execute_reply.started": "2021-10-30T20:14:57.355619Z"
    },
    "jupyter": {
     "source_hidden": true
    },
    "papermill": {
     "duration": 7.827122,
     "end_time": "2021-10-30T21:34:09.422738",
     "exception": false,
     "start_time": "2021-10-30T21:34:01.595616",
     "status": "completed"
    },
    "tags": []
   },
   "outputs": [],
   "source": [
    "a = train[[\"store_nbr\", \"sales\"]]\n",
    "a[\"ind\"] = 1\n",
    "a[\"ind\"] = a.groupby(\"store_nbr\").ind.cumsum().values\n",
    "a = pd.pivot(a, index = \"ind\", columns = \"store_nbr\", values = \"sales\").corr()\n",
    "mask = np.triu(a.corr())\n",
    "plt.figure(figsize=(20, 20))\n",
    "sns.heatmap(a,\n",
    "        annot=True,\n",
    "        fmt='.1f',\n",
    "        cmap='coolwarm',\n",
    "        square=True,\n",
    "        mask=mask,\n",
    "        linewidths=1,\n",
    "        cbar=False)\n",
    "plt.title(\"Correlations among stores\",fontsize = 20)\n",
    "plt.show()"
   ]
  },
  {
   "cell_type": "markdown",
   "id": "0daa5455",
   "metadata": {
    "papermill": {
     "duration": 0.229943,
     "end_time": "2021-10-30T21:34:09.880613",
     "exception": false,
     "start_time": "2021-10-30T21:34:09.650670",
     "status": "completed"
    },
    "tags": []
   },
   "source": [
    "There is a graph that shows us daily total sales below."
   ]
  },
  {
   "cell_type": "code",
   "execution_count": null,
   "id": "b076700e",
   "metadata": {
    "_kg_hide-input": true,
    "execution": {
     "iopub.execute_input": "2021-10-30T21:34:10.346833Z",
     "iopub.status.busy": "2021-10-30T21:34:10.346104Z",
     "iopub.status.idle": "2021-10-30T21:34:14.029340Z",
     "shell.execute_reply": "2021-10-30T21:34:14.030065Z",
     "shell.execute_reply.started": "2021-10-30T20:15:06.729301Z"
    },
    "jupyter": {
     "source_hidden": true
    },
    "papermill": {
     "duration": 3.918563,
     "end_time": "2021-10-30T21:34:14.030274",
     "exception": false,
     "start_time": "2021-10-30T21:34:10.111711",
     "status": "completed"
    },
    "tags": []
   },
   "outputs": [],
   "source": [
    "a = train.set_index(\"date\").groupby(\"store_nbr\").resample(\"D\").sales.sum().reset_index()\n",
    "px.line(a, x = \"date\", y= \"sales\", color = \"store_nbr\", title = \"Daily total sales of the stores\")"
   ]
  },
  {
   "cell_type": "markdown",
   "id": "3e0d752b",
   "metadata": {
    "papermill": {
     "duration": 0.280501,
     "end_time": "2021-10-30T21:34:14.603439",
     "exception": false,
     "start_time": "2021-10-30T21:34:14.322938",
     "status": "completed"
    },
    "tags": []
   },
   "source": [
    "I realized some unnecessary rows in the data while I was looking at the time serie of the stores one by one. If you select the stores from above, some of them have no sales at the beginning of 2013. You can see them, if you look at the those stores 20, 21, 22, 29, 36, 42, 52 and 53. I decided to remove those rows before the stores opened. In the following codes, we will get rid of them."
   ]
  },
  {
   "cell_type": "code",
   "execution_count": null,
   "id": "1cdc3675",
   "metadata": {
    "execution": {
     "iopub.execute_input": "2021-10-30T21:34:15.215028Z",
     "iopub.status.busy": "2021-10-30T21:34:15.214242Z",
     "iopub.status.idle": "2021-10-30T21:34:16.188710Z",
     "shell.execute_reply": "2021-10-30T21:34:16.187913Z",
     "shell.execute_reply.started": "2021-10-30T20:15:11.315885Z"
    },
    "papermill": {
     "duration": 1.291689,
     "end_time": "2021-10-30T21:34:16.188864",
     "exception": false,
     "start_time": "2021-10-30T21:34:14.897175",
     "status": "completed"
    },
    "tags": []
   },
   "outputs": [],
   "source": [
    "print(train.shape)\n",
    "train = train[~((train.store_nbr == 52) & (train.date < \"2017-04-20\"))]\n",
    "train = train[~((train.store_nbr == 22) & (train.date < \"2015-10-09\"))]\n",
    "train = train[~((train.store_nbr == 42) & (train.date < \"2015-08-21\"))]\n",
    "train = train[~((train.store_nbr == 21) & (train.date < \"2015-07-24\"))]\n",
    "train = train[~((train.store_nbr == 29) & (train.date < \"2015-03-20\"))]\n",
    "train = train[~((train.store_nbr == 20) & (train.date < \"2015-02-13\"))]\n",
    "train = train[~((train.store_nbr == 53) & (train.date < \"2014-05-29\"))]\n",
    "train = train[~((train.store_nbr == 36) & (train.date < \"2013-05-09\"))]\n",
    "train.shape"
   ]
  },
  {
   "cell_type": "markdown",
   "id": "53c644c4",
   "metadata": {
    "papermill": {
     "duration": 0.290579,
     "end_time": "2021-10-30T21:34:16.769176",
     "exception": false,
     "start_time": "2021-10-30T21:34:16.478597",
     "status": "completed"
    },
    "tags": []
   },
   "source": [
    "## Zero Forecasting\n",
    "\n",
    "Some stores don't sell some product families. In the following code, you can see which products aren't sold in which stores. It isn't difficult to forecast them next 15 days. Their forecasts must be 0 next 15 days.\n",
    "\n",
    "I will remove them from the data and create a new data frame for product families which never sell. Then, when we are at submission part, I will combine that data frame with our predictions."
   ]
  },
  {
   "cell_type": "code",
   "execution_count": null,
   "id": "b7f25a75",
   "metadata": {
    "execution": {
     "iopub.execute_input": "2021-10-30T21:34:17.357863Z",
     "iopub.status.busy": "2021-10-30T21:34:17.356737Z",
     "iopub.status.idle": "2021-10-30T21:34:17.752882Z",
     "shell.execute_reply": "2021-10-30T21:34:17.753415Z",
     "shell.execute_reply.started": "2021-10-30T20:15:12.579624Z"
    },
    "papermill": {
     "duration": 0.693317,
     "end_time": "2021-10-30T21:34:17.753622",
     "exception": false,
     "start_time": "2021-10-30T21:34:17.060305",
     "status": "completed"
    },
    "tags": []
   },
   "outputs": [],
   "source": [
    "c = train.groupby([\"store_nbr\", \"family\"]).sales.sum().reset_index().sort_values([\"family\",\"store_nbr\"])\n",
    "c = c[c.sales == 0]\n",
    "c"
   ]
  },
  {
   "cell_type": "code",
   "execution_count": null,
   "id": "10fe1252",
   "metadata": {
    "execution": {
     "iopub.execute_input": "2021-10-30T21:34:18.337681Z",
     "iopub.status.busy": "2021-10-30T21:34:18.336517Z",
     "iopub.status.idle": "2021-10-30T21:34:20.478191Z",
     "shell.execute_reply": "2021-10-30T21:34:20.478811Z",
     "shell.execute_reply.started": "2021-10-30T20:15:12.981935Z"
    },
    "papermill": {
     "duration": 2.435482,
     "end_time": "2021-10-30T21:34:20.479039",
     "exception": false,
     "start_time": "2021-10-30T21:34:18.043557",
     "status": "completed"
    },
    "tags": []
   },
   "outputs": [],
   "source": [
    "print(train.shape)\n",
    "# Anti Join\n",
    "outer_join = train.merge(c[c.sales == 0].drop(\"sales\",axis = 1), how = 'outer', indicator = True)\n",
    "train = outer_join[~(outer_join._merge == 'both')].drop('_merge', axis = 1)\n",
    "del outer_join\n",
    "gc.collect()\n",
    "train.shape"
   ]
  },
  {
   "cell_type": "code",
   "execution_count": null,
   "id": "66facfd6",
   "metadata": {
    "execution": {
     "iopub.execute_input": "2021-10-30T21:34:21.202772Z",
     "iopub.status.busy": "2021-10-30T21:34:21.201651Z",
     "iopub.status.idle": "2021-10-30T21:34:21.465395Z",
     "shell.execute_reply": "2021-10-30T21:34:21.464813Z",
     "shell.execute_reply.started": "2021-10-30T20:15:15.540981Z"
    },
    "papermill": {
     "duration": 0.581284,
     "end_time": "2021-10-30T21:34:21.465577",
     "exception": false,
     "start_time": "2021-10-30T21:34:20.884293",
     "status": "completed"
    },
    "tags": []
   },
   "outputs": [],
   "source": [
    "zero_prediction = []\n",
    "for i in range(0,len(c)):\n",
    "    zero_prediction.append(\n",
    "        pd.DataFrame({\n",
    "            \"date\":pd.date_range(\"2017-08-16\", \"2017-08-31\").tolist(),\n",
    "            \"store_nbr\":c.store_nbr.iloc[i],\n",
    "            \"family\":c.family.iloc[i],\n",
    "            \"sales\":0\n",
    "        })\n",
    "    )\n",
    "zero_prediction = pd.concat(zero_prediction)\n",
    "del c\n",
    "gc.collect()\n",
    "zero_prediction"
   ]
  },
  {
   "cell_type": "markdown",
   "id": "9bc11abf",
   "metadata": {
    "papermill": {
     "duration": 0.291445,
     "end_time": "2021-10-30T21:34:22.642681",
     "exception": false,
     "start_time": "2021-10-30T21:34:22.351236",
     "status": "completed"
    },
    "tags": []
   },
   "source": [
    "## Are The Product Families Active or Passive?\n",
    "\n",
    "Some products can sell rarely in the stores. When I worked on a product supply demand for restuarants project at my previous job, some products were passive if they never bought in the last two months. I want to apply this domain knowledge here and I will look on the last 60 days.\n",
    "\n",
    "However, some product families depends on seasonality. Some of them might not active on the last 60 days but it doesn't mean it is passive."
   ]
  },
  {
   "cell_type": "code",
   "execution_count": null,
   "id": "7cd3b53d",
   "metadata": {
    "_kg_hide-input": true,
    "execution": {
     "iopub.execute_input": "2021-10-30T21:34:23.283088Z",
     "iopub.status.busy": "2021-10-30T21:34:23.282311Z",
     "iopub.status.idle": "2021-10-30T21:34:23.637489Z",
     "shell.execute_reply": "2021-10-30T21:34:23.638022Z",
     "shell.execute_reply.started": "2021-10-30T20:15:15.926104Z"
    },
    "papermill": {
     "duration": 0.70395,
     "end_time": "2021-10-30T21:34:23.638198",
     "exception": false,
     "start_time": "2021-10-30T21:34:22.934248",
     "status": "completed"
    },
    "tags": []
   },
   "outputs": [],
   "source": [
    "c = train.groupby([\"family\", \"store_nbr\"]).tail(60).groupby([\"family\", \"store_nbr\"]).sales.sum().reset_index()\n",
    "c[c.sales == 0]"
   ]
  },
  {
   "cell_type": "markdown",
   "id": "9de53e67",
   "metadata": {
    "papermill": {
     "duration": 0.287768,
     "end_time": "2021-10-30T21:34:24.218576",
     "exception": false,
     "start_time": "2021-10-30T21:34:23.930808",
     "status": "completed"
    },
    "tags": []
   },
   "source": [
    "As you can see below, these examples are too rare and also the sales are low. I'm open your suggestions for these families. I won't do anything for now but, you would like to improve your model you can focus on that.\n",
    "\n",
    "But still, I want to use that knowledge whether it is simple and I will create a new feature. It shows that the product family is active or not."
   ]
  },
  {
   "cell_type": "code",
   "execution_count": null,
   "id": "c75ba208",
   "metadata": {
    "_kg_hide-input": true,
    "execution": {
     "iopub.execute_input": "2021-10-30T21:34:24.810177Z",
     "iopub.status.busy": "2021-10-30T21:34:24.809097Z",
     "iopub.status.idle": "2021-10-30T21:34:27.785269Z",
     "shell.execute_reply": "2021-10-30T21:34:27.784677Z",
     "shell.execute_reply.started": "2021-10-30T20:15:16.430803Z"
    },
    "jupyter": {
     "source_hidden": true
    },
    "papermill": {
     "duration": 3.273513,
     "end_time": "2021-10-30T21:34:27.785419",
     "exception": false,
     "start_time": "2021-10-30T21:34:24.511906",
     "status": "completed"
    },
    "tags": []
   },
   "outputs": [],
   "source": [
    "fig, ax = plt.subplots(1,5, figsize = (20,4))\n",
    "train[(train.store_nbr == 10) & (train.family == \"LAWN AND GARDEN\")].set_index(\"date\").sales.plot(ax = ax[0], title = \"STORE 10 - LAWN AND GARDEN\")\n",
    "train[(train.store_nbr == 36) & (train.family == \"LADIESWEAR\")].set_index(\"date\").sales.plot(ax = ax[1], title = \"STORE 36 - LADIESWEAR\")\n",
    "train[(train.store_nbr == 6) & (train.family == \"SCHOOL AND OFFICE SUPPLIES\")].set_index(\"date\").sales.plot(ax = ax[2], title = \"STORE 6 - SCHOOL AND OFFICE SUPPLIES\")\n",
    "train[(train.store_nbr == 14) & (train.family == \"BABY CARE\")].set_index(\"date\").sales.plot(ax = ax[3], title = \"STORE 14 - BABY CARE\")\n",
    "train[(train.store_nbr == 53) & (train.family == \"BOOKS\")].set_index(\"date\").sales.plot(ax = ax[4], title = \"STORE 43 - BOOKS\")\n",
    "plt.show()"
   ]
  },
  {
   "cell_type": "markdown",
   "id": "e9fffca8",
   "metadata": {
    "papermill": {
     "duration": 0.290011,
     "end_time": "2021-10-30T21:34:28.369491",
     "exception": false,
     "start_time": "2021-10-30T21:34:28.079480",
     "status": "completed"
    },
    "tags": []
   },
   "source": [
    "We can catch the trends, seasonality and anomalies for families."
   ]
  },
  {
   "cell_type": "code",
   "execution_count": null,
   "id": "822ff711",
   "metadata": {
    "_kg_hide-input": true,
    "execution": {
     "iopub.execute_input": "2021-10-30T21:34:28.993383Z",
     "iopub.status.busy": "2021-10-30T21:34:28.992431Z",
     "iopub.status.idle": "2021-10-30T21:34:32.264136Z",
     "shell.execute_reply": "2021-10-30T21:34:32.264705Z",
     "shell.execute_reply.started": "2021-10-30T20:15:19.946198Z"
    },
    "jupyter": {
     "source_hidden": true
    },
    "papermill": {
     "duration": 3.576195,
     "end_time": "2021-10-30T21:34:32.264893",
     "exception": false,
     "start_time": "2021-10-30T21:34:28.688698",
     "status": "completed"
    },
    "tags": []
   },
   "outputs": [],
   "source": [
    "a = train.set_index(\"date\").groupby(\"family\").resample(\"D\").sales.sum().reset_index()\n",
    "px.line(a, x = \"date\", y= \"sales\", color = \"family\", title = \"Daily total sales of the family\")"
   ]
  },
  {
   "cell_type": "markdown",
   "id": "41b8f486",
   "metadata": {
    "papermill": {
     "duration": 0.328311,
     "end_time": "2021-10-30T21:34:32.922283",
     "exception": false,
     "start_time": "2021-10-30T21:34:32.593972",
     "status": "completed"
    },
    "tags": []
   },
   "source": [
    "We are working with the stores. Well, there are plenty of products in the stores and we need to know which product family sells much more? Let's make a barplot to see that.\n",
    "\n",
    "The graph shows us GROCERY I and BEVERAGES are the top selling families."
   ]
  },
  {
   "cell_type": "code",
   "execution_count": null,
   "id": "7724d927",
   "metadata": {
    "_kg_hide-input": true,
    "execution": {
     "iopub.execute_input": "2021-10-30T21:34:33.653107Z",
     "iopub.status.busy": "2021-10-30T21:34:33.651523Z",
     "iopub.status.idle": "2021-10-30T21:34:34.078167Z",
     "shell.execute_reply": "2021-10-30T21:34:34.077639Z",
     "shell.execute_reply.started": "2021-10-30T20:15:23.785775Z"
    },
    "jupyter": {
     "source_hidden": true
    },
    "papermill": {
     "duration": 0.821075,
     "end_time": "2021-10-30T21:34:34.078318",
     "exception": false,
     "start_time": "2021-10-30T21:34:33.257243",
     "status": "completed"
    },
    "tags": []
   },
   "outputs": [],
   "source": [
    "a = train.groupby(\"family\").sales.mean().sort_values(ascending = False).reset_index()\n",
    "px.bar(a, y = \"family\", x=\"sales\", color = \"family\", title = \"Which product family preferred more?\")"
   ]
  },
  {
   "cell_type": "markdown",
   "id": "374e2406",
   "metadata": {
    "papermill": {
     "duration": 0.320435,
     "end_time": "2021-10-30T21:34:34.729879",
     "exception": false,
     "start_time": "2021-10-30T21:34:34.409444",
     "status": "completed"
    },
    "tags": []
   },
   "source": [
    "#### Does onpromotion column cause a data leakage problem?\n",
    "\n",
    "It is really a good question. The Data Leakage is one of the biggest problem when we will fit a model. There is a great discussion from [Nesterenko Marina](https://www.kaggle.com/nesterenkomarina) [@nesterenkomarina](https://www.kaggle.com/nesterenkomarina). You should look at it before fitting a model.\n",
    "\n",
    "- https://www.kaggle.com/c/store-sales-time-series-forecasting/discussion/277067"
   ]
  },
  {
   "cell_type": "code",
   "execution_count": null,
   "id": "5453f01e",
   "metadata": {
    "_kg_hide-input": true,
    "execution": {
     "iopub.execute_input": "2021-10-30T21:34:35.399698Z",
     "iopub.status.busy": "2021-10-30T21:34:35.398933Z",
     "iopub.status.idle": "2021-10-30T21:34:36.454018Z",
     "shell.execute_reply": "2021-10-30T21:34:36.453271Z",
     "shell.execute_reply.started": "2021-10-30T20:15:24.390923Z"
    },
    "jupyter": {
     "source_hidden": true
    },
    "papermill": {
     "duration": 1.3919,
     "end_time": "2021-10-30T21:34:36.454171",
     "exception": false,
     "start_time": "2021-10-30T21:34:35.062271",
     "status": "completed"
    },
    "tags": []
   },
   "outputs": [],
   "source": [
    "# print(\"Spearman Correlation between Sales and Onpromotion: {:,.4f}\".format(train.corr(\"spearman\").sales.loc[\"onpromotion\"]))"
   ]
  },
  {
   "cell_type": "markdown",
   "id": "78f21858",
   "metadata": {
    "papermill": {
     "duration": 0.336834,
     "end_time": "2021-10-30T21:34:37.124158",
     "exception": false,
     "start_time": "2021-10-30T21:34:36.787324",
     "status": "completed"
    },
    "tags": []
   },
   "source": [
    "\n",
    "<center><img src=\"https://github.com/EkremBayar/Kaggle/blob/main/Images/kr.PNG?raw=true\n",
    "\" style=\"width:90%;height:10%;\"></center>"
   ]
  },
  {
   "cell_type": "markdown",
   "id": "4a71fa7b",
   "metadata": {
    "papermill": {
     "duration": 0.33569,
     "end_time": "2021-10-30T21:34:37.797223",
     "exception": false,
     "start_time": "2021-10-30T21:34:37.461533",
     "status": "completed"
    },
    "tags": []
   },
   "source": [
    "How different can stores be from each other? I couldn't find a major pattern among the stores actually. But I only looked at a single plot. There may be some latent patterns. "
   ]
  },
  {
   "cell_type": "code",
   "execution_count": null,
   "id": "10c9b9a2",
   "metadata": {
    "_kg_hide-input": true,
    "execution": {
     "iopub.execute_input": "2021-10-30T21:34:38.481806Z",
     "iopub.status.busy": "2021-10-30T21:34:38.481042Z",
     "iopub.status.idle": "2021-10-30T21:34:39.527002Z",
     "shell.execute_reply": "2021-10-30T21:34:39.527532Z",
     "shell.execute_reply.started": "2021-10-30T20:15:25.770935Z"
    },
    "jupyter": {
     "source_hidden": true
    },
    "papermill": {
     "duration": 1.396338,
     "end_time": "2021-10-30T21:34:39.527722",
     "exception": false,
     "start_time": "2021-10-30T21:34:38.131384",
     "status": "completed"
    },
    "tags": []
   },
   "outputs": [],
   "source": [
    "d = pd.merge(train, stores)\n",
    "d[\"store_nbr\"] = d[\"store_nbr\"].astype(\"int8\")\n",
    "d[\"year\"] = d.date.dt.year\n",
    "px.line(d.groupby([\"city\", \"year\"]).sales.mean().reset_index(), x = \"year\", y = \"sales\", color = \"city\")"
   ]
  },
  {
   "cell_type": "markdown",
   "id": "e5ba3d0b",
   "metadata": {
    "papermill": {
     "duration": 0.327514,
     "end_time": "2021-10-30T21:34:40.187404",
     "exception": false,
     "start_time": "2021-10-30T21:34:39.859890",
     "status": "completed"
    },
    "tags": []
   },
   "source": [
    "# 6. Holidays and Events\n",
    "\n",
    "What a mess! Probably, you are confused due to the holidays and events data. It contains a lot of information inside but, don't worry. You just need to take a breathe and think! It is a meta-data so you have to split it logically and make the data useful.\n",
    "\n",
    "What are our problems?\n",
    "- Some national holidays have been transferred.\n",
    "- There might be a few holidays in one day. When we merged all of data, number of rows might increase. We don't want duplicates.\n",
    "- What is the scope of holidays? It can be regional or national or local. You need to split them by the scope.\n",
    "- Work day issue\n",
    "- Some specific events\n",
    "- Creating new features etc.\n",
    "\n",
    "\n",
    "End of the section, they won't be a problem anymore!"
   ]
  },
  {
   "cell_type": "code",
   "execution_count": null,
   "id": "ccb74c4f",
   "metadata": {
    "_kg_hide-input": true,
    "execution": {
     "iopub.execute_input": "2021-10-30T21:34:40.859550Z",
     "iopub.status.busy": "2021-10-30T21:34:40.858302Z",
     "iopub.status.idle": "2021-10-30T21:35:15.958935Z",
     "shell.execute_reply": "2021-10-30T21:35:15.959486Z",
     "shell.execute_reply.started": "2021-10-30T20:15:26.989637Z"
    },
    "papermill": {
     "duration": 35.436723,
     "end_time": "2021-10-30T21:35:15.959712",
     "exception": false,
     "start_time": "2021-10-30T21:34:40.522989",
     "status": "completed"
    },
    "tags": []
   },
   "outputs": [],
   "source": [
    "holidays = pd.read_csv(\"./holidays_events.csv\")\n",
    "holidays[\"date\"] = pd.to_datetime(holidays.date)\n",
    "\n",
    "# holidays[holidays.type == \"Holiday\"]\n",
    "# holidays[(holidays.type == \"Holiday\") & (holidays.transferred == True)]\n",
    "\n",
    "# Transferred Holidays\n",
    "tr1 = holidays[(holidays.type == \"Holiday\") & (holidays.transferred == True)].drop(\"transferred\", axis = 1).reset_index(drop = True)\n",
    "tr2 = holidays[(holidays.type == \"Transfer\")].drop(\"transferred\", axis = 1).reset_index(drop = True)\n",
    "tr = pd.concat([tr1,tr2], axis = 1)\n",
    "tr = tr.iloc[:, [5,1,2,3,4]]\n",
    "\n",
    "holidays = holidays[(holidays.transferred == False) & (holidays.type != \"Transfer\")].drop(\"transferred\", axis = 1)\n",
    "# Replacing .append(tr)\n",
    "holidays = pd.concat([holidays, tr], axis=0).reset_index(drop=True)\n",
    "\n",
    "\n",
    "# Additional Holidays\n",
    "holidays[\"description\"] = holidays[\"description\"].str.replace(\"-\", \"\").str.replace(\"+\", \"\").str.replace('\\d+', '')\n",
    "holidays[\"type\"] = np.where(holidays[\"type\"] == \"Additional\", \"Holiday\", holidays[\"type\"])\n",
    "\n",
    "# Bridge Holidays\n",
    "holidays[\"description\"] = holidays[\"description\"].str.replace(\"Puente \", \"\")\n",
    "holidays[\"type\"] = np.where(holidays[\"type\"] == \"Bridge\", \"Holiday\", holidays[\"type\"])\n",
    "\n",
    " \n",
    "# Work Day Holidays, that is meant to payback the Bridge.\n",
    "work_day = holidays[holidays.type == \"Work Day\"]  \n",
    "holidays = holidays[holidays.type != \"Work Day\"]  \n",
    "\n",
    "\n",
    "# Split\n",
    "\n",
    "# Events are national\n",
    "events = holidays[holidays.type == \"Event\"].drop([\"type\", \"locale\", \"locale_name\"], axis = 1).rename({\"description\":\"events\"}, axis = 1)\n",
    "\n",
    "holidays = holidays[holidays.type != \"Event\"].drop(\"type\", axis = 1)\n",
    "regional = holidays[holidays.locale == \"Regional\"].rename({\"locale_name\":\"state\", \"description\":\"holiday_regional\"}, axis = 1).drop(\"locale\", axis = 1).drop_duplicates()\n",
    "national = holidays[holidays.locale == \"National\"].rename({\"description\":\"holiday_national\"}, axis = 1).drop([\"locale\", \"locale_name\"], axis = 1).drop_duplicates()\n",
    "local = holidays[holidays.locale == \"Local\"].rename({\"description\":\"holiday_local\", \"locale_name\":\"city\"}, axis = 1).drop(\"locale\", axis = 1).drop_duplicates()\n",
    "\n",
    "\n",
    "\n",
    "d = pd.merge(pd.concat([train, test], axis=0), stores)\n",
    "d[\"store_nbr\"] = d[\"store_nbr\"].astype(\"int8\")\n",
    "\n",
    "\n",
    "# National Holidays & Events\n",
    "#d = pd.merge(d, events, how = \"left\")\n",
    "d = pd.merge(d, national, how = \"left\")\n",
    "# Regional\n",
    "d = pd.merge(d, regional, how = \"left\", on = [\"date\", \"state\"])\n",
    "# Local\n",
    "d = pd.merge(d, local, how = \"left\", on = [\"date\", \"city\"])\n",
    "\n",
    "# Work Day: It will be removed when real work day colum created\n",
    "d = pd.merge(d,  work_day[[\"date\", \"type\"]].rename({\"type\":\"IsWorkDay\"}, axis = 1),how = \"left\")\n",
    "\n",
    "# EVENTS\n",
    "events[\"events\"] =np.where(events.events.str.contains(\"futbol\"), \"Futbol\", events.events)\n",
    "\n",
    "def one_hot_encoder(df, nan_as_category=True):\n",
    "    original_columns = list(df.columns)\n",
    "    categorical_columns = df.select_dtypes([\"category\", \"object\"]).columns.tolist()\n",
    "    # categorical_columns = [col for col in df.columns if df[col].dtype == 'object']\n",
    "    df = pd.get_dummies(df, columns=categorical_columns, dummy_na=nan_as_category)\n",
    "    new_columns = [c for c in df.columns if c not in original_columns]\n",
    "    df.columns = df.columns.str.replace(\" \", \"_\")\n",
    "    return df, df.columns.tolist()\n",
    "\n",
    "events, events_cat = one_hot_encoder(events, nan_as_category=False)\n",
    "events[\"events_Dia_de_la_Madre\"] = np.where(events.date == \"2016-05-08\", 1,events[\"events_Dia_de_la_Madre\"])\n",
    "events = events.drop(239)\n",
    "\n",
    "d = pd.merge(d, events, how = \"left\")\n",
    "d[events_cat] = d[events_cat].fillna(0)\n",
    "\n",
    "# New features\n",
    "d[\"holiday_national_binary\"] = np.where(d.holiday_national.notnull(), 1, 0)\n",
    "d[\"holiday_local_binary\"] = np.where(d.holiday_local.notnull(), 1, 0)\n",
    "d[\"holiday_regional_binary\"] = np.where(d.holiday_regional.notnull(), 1, 0)\n",
    "\n",
    "# \n",
    "d[\"national_independence\"] = np.where(d.holiday_national.isin(['Batalla de Pichincha',  'Independencia de Cuenca', 'Independencia de Guayaquil', 'Independencia de Guayaquil', 'Primer Grito de Independencia']), 1, 0)\n",
    "d[\"local_cantonizacio\"] = np.where(d.holiday_local.str.contains(\"Cantonizacio\"), 1, 0)\n",
    "d[\"local_fundacion\"] = np.where(d.holiday_local.str.contains(\"Fundacion\"), 1, 0)\n",
    "d[\"local_independencia\"] = np.where(d.holiday_local.str.contains(\"Independencia\"), 1, 0)\n",
    "\n",
    "\n",
    "holidays, holidays_cat = one_hot_encoder(d[[\"holiday_national\",\"holiday_regional\",\"holiday_local\"]], nan_as_category=False)\n",
    "d = pd.concat([d.drop([\"holiday_national\",\"holiday_regional\",\"holiday_local\"], axis = 1),holidays], axis = 1)\n",
    "\n",
    "he_cols = d.columns[d.columns.str.startswith(\"events\")].tolist() + d.columns[d.columns.str.startswith(\"holiday\")].tolist() + d.columns[d.columns.str.startswith(\"national\")].tolist()+ d.columns[d.columns.str.startswith(\"local\")].tolist()\n",
    "d[he_cols] = d[he_cols].astype(\"int8\")\n",
    "\n",
    "d[[\"family\", \"city\", \"state\", \"type\"]] = d[[\"family\", \"city\", \"state\", \"type\"]].astype(\"category\")\n",
    "\n",
    "del holidays, holidays_cat, work_day, local, regional, national, events, events_cat, tr, tr1, tr2, he_cols\n",
    "gc.collect()\n",
    "\n",
    "d.head(10)"
   ]
  },
  {
   "cell_type": "markdown",
   "id": "4b8daac7",
   "metadata": {
    "papermill": {
     "duration": 0.340321,
     "end_time": "2021-10-30T21:35:16.626690",
     "exception": false,
     "start_time": "2021-10-30T21:35:16.286369",
     "status": "completed"
    },
    "tags": []
   },
   "source": [
    "**Let's apply an AB test to Events and Holidays features. Are they statistically significant? Also it can be a good way for first feature selection.**\n",
    "\n",
    "- *H0: The sales are equal* **(M1 = M2)**\n",
    "- *H1: The sales are not equal* **(M1 != M2)**"
   ]
  },
  {
   "cell_type": "code",
   "execution_count": null,
   "id": "b4500de1",
   "metadata": {
    "_kg_hide-input": true,
    "execution": {
     "iopub.execute_input": "2021-10-30T21:35:17.313873Z",
     "iopub.status.busy": "2021-10-30T21:35:17.313076Z",
     "iopub.status.idle": "2021-10-30T21:39:38.784922Z",
     "shell.execute_reply": "2021-10-30T21:39:38.785515Z",
     "shell.execute_reply.started": "2021-10-30T20:16:07.459801Z"
    },
    "jupyter": {
     "source_hidden": true
    },
    "papermill": {
     "duration": 261.820786,
     "end_time": "2021-10-30T21:39:38.785701",
     "exception": false,
     "start_time": "2021-10-30T21:35:16.964915",
     "status": "completed"
    },
    "tags": []
   },
   "outputs": [],
   "source": [
    "def AB_Test(dataframe, group, target):\n",
    "    \n",
    "    # Packages\n",
    "    from scipy.stats import shapiro\n",
    "    import scipy.stats as stats\n",
    "    \n",
    "    # Split A/B\n",
    "    groupA = dataframe[dataframe[group] == 1][target]\n",
    "    groupB = dataframe[dataframe[group] == 0][target]\n",
    "    \n",
    "    # Assumption: Normality\n",
    "    ntA = shapiro(groupA)[1] < 0.05\n",
    "    ntB = shapiro(groupB)[1] < 0.05\n",
    "    # H0: Distribution is Normal! - False\n",
    "    # H1: Distribution is not Normal! - True\n",
    "    \n",
    "    if (ntA == False) & (ntB == False): # \"H0: Normal Distribution\"\n",
    "        # Parametric Test\n",
    "        # Assumption: Homogeneity of variances\n",
    "        leveneTest = stats.levene(groupA, groupB)[1] < 0.05\n",
    "        # H0: Homogeneity: False\n",
    "        # H1: Heterogeneous: True\n",
    "        \n",
    "        if leveneTest == False:\n",
    "            # Homogeneity\n",
    "            ttest = stats.ttest_ind(groupA, groupB, equal_var=True)[1]\n",
    "            # H0: M1 == M2 - False\n",
    "            # H1: M1 != M2 - True\n",
    "        else:\n",
    "            # Heterogeneous\n",
    "            ttest = stats.ttest_ind(groupA, groupB, equal_var=False)[1]\n",
    "            # H0: M1 == M2 - False\n",
    "            # H1: M1 != M2 - True\n",
    "    else:\n",
    "        # Non-Parametric Test\n",
    "        ttest = stats.mannwhitneyu(groupA, groupB)[1] \n",
    "        # H0: M1 == M2 - False\n",
    "        # H1: M1 != M2 - True\n",
    "        \n",
    "    # Result\n",
    "    temp = pd.DataFrame({\n",
    "        \"AB Hypothesis\":[ttest < 0.05], \n",
    "        \"p-value\":[ttest]\n",
    "    })\n",
    "    temp[\"Test Type\"] = np.where((ntA == False) & (ntB == False), \"Parametric\", \"Non-Parametric\")\n",
    "    temp[\"AB Hypothesis\"] = np.where(temp[\"AB Hypothesis\"] == False, \"Fail to Reject H0\", \"Reject H0\")\n",
    "    temp[\"Comment\"] = np.where(temp[\"AB Hypothesis\"] == \"Fail to Reject H0\", \"A/B groups are similar!\", \"A/B groups are not similar!\")\n",
    "    temp[\"Feature\"] = group\n",
    "    temp[\"GroupA_mean\"] = groupA.mean()\n",
    "    temp[\"GroupB_mean\"] = groupB.mean()\n",
    "    temp[\"GroupA_median\"] = groupA.median()\n",
    "    temp[\"GroupB_median\"] = groupB.median()\n",
    "    \n",
    "    # Columns\n",
    "    if (ntA == False) & (ntB == False):\n",
    "        temp[\"Homogeneity\"] = np.where(leveneTest == False, \"Yes\", \"No\")\n",
    "        temp = temp[[\"Feature\",\"Test Type\", \"Homogeneity\",\"AB Hypothesis\", \"p-value\", \"Comment\", \"GroupA_mean\", \"GroupB_mean\", \"GroupA_median\", \"GroupB_median\"]]\n",
    "    else:\n",
    "        temp = temp[[\"Feature\",\"Test Type\",\"AB Hypothesis\", \"p-value\", \"Comment\", \"GroupA_mean\", \"GroupB_mean\", \"GroupA_median\", \"GroupB_median\"]]\n",
    "    \n",
    "    # Print Hypothesis\n",
    "    # print(\"# A/B Testing Hypothesis\")\n",
    "    # print(\"H0: A == B\")\n",
    "    # print(\"H1: A != B\", \"\\n\")\n",
    "    \n",
    "    return temp\n",
    "    \n",
    "# Apply A/B Testing\n",
    "he_cols = d.columns[d.columns.str.startswith(\"events\")].tolist() + d.columns[d.columns.str.startswith(\"holiday\")].tolist() + d.columns[d.columns.str.startswith(\"national\")].tolist()+ d.columns[d.columns.str.startswith(\"local\")].tolist()\n",
    "ab = []\n",
    "for i in he_cols:\n",
    "    ab.append(AB_Test(dataframe=d[d.sales.notnull()], group = i, target = \"sales\"))\n",
    "ab = pd.concat(ab)\n",
    "ab"
   ]
  },
  {
   "cell_type": "code",
   "execution_count": null,
   "id": "a0f17db0",
   "metadata": {
    "execution": {
     "iopub.execute_input": "2021-10-30T21:39:39.458852Z",
     "iopub.status.busy": "2021-10-30T21:39:39.458100Z",
     "iopub.status.idle": "2021-10-30T21:39:39.569660Z",
     "shell.execute_reply": "2021-10-30T21:39:39.569099Z",
     "shell.execute_reply.started": "2021-10-30T20:21:02.476371Z"
    },
    "papermill": {
     "duration": 0.456257,
     "end_time": "2021-10-30T21:39:39.569812",
     "exception": false,
     "start_time": "2021-10-30T21:39:39.113555",
     "status": "completed"
    },
    "tags": []
   },
   "outputs": [],
   "source": [
    "d.groupby([\"family\",\"events_Futbol\"]).sales.mean()[:60]"
   ]
  },
  {
   "cell_type": "markdown",
   "id": "19c0b77f",
   "metadata": {
    "execution": {
     "iopub.execute_input": "2021-10-22T21:09:35.343102Z",
     "iopub.status.busy": "2021-10-22T21:09:35.342168Z",
     "iopub.status.idle": "2021-10-22T21:09:37.469635Z",
     "shell.execute_reply": "2021-10-22T21:09:37.468689Z",
     "shell.execute_reply.started": "2021-10-22T21:09:35.343054Z"
    },
    "papermill": {
     "duration": 0.33134,
     "end_time": "2021-10-30T21:39:40.237073",
     "exception": false,
     "start_time": "2021-10-30T21:39:39.905733",
     "status": "completed"
    },
    "tags": []
   },
   "source": [
    "# 7. Time Related Features\n",
    "\n",
    "How many features can you create from only date column? I'm sharing an example of time related features. You can expand the features with your imagination or your needs. "
   ]
  },
  {
   "cell_type": "code",
   "execution_count": null,
   "id": "5d425c3b",
   "metadata": {
    "execution": {
     "iopub.execute_input": "2021-10-30T21:39:40.937309Z",
     "iopub.status.busy": "2021-10-30T21:39:40.931478Z",
     "iopub.status.idle": "2021-10-30T21:40:03.763813Z",
     "shell.execute_reply": "2021-10-30T21:40:03.764381Z",
     "shell.execute_reply.started": "2021-10-30T20:21:02.621626Z"
    },
    "papermill": {
     "duration": 23.184739,
     "end_time": "2021-10-30T21:40:03.764585",
     "exception": false,
     "start_time": "2021-10-30T21:39:40.579846",
     "status": "completed"
    },
    "tags": []
   },
   "outputs": [],
   "source": [
    "def create_date_features(df):\n",
    "    df['month'] = df.date.dt.month.astype(\"int8\")\n",
    "    df['day_of_month'] = df.date.dt.day.astype(\"int8\")\n",
    "    df['day_of_year'] = df.date.dt.dayofyear.astype(\"int16\")\n",
    "    df['week_of_month'] = (df.date.apply(lambda d: (d.day-1) // 7 + 1)).astype(\"int8\")\n",
    "    df['week_of_year'] = df.date.dt.isocalendar().week.astype(\"int8\")  # <-- FIXED HERE\n",
    "    df['day_of_week'] = (df.date.dt.dayofweek + 1).astype(\"int8\")\n",
    "    df['year'] = df.date.dt.year.astype(\"int32\")\n",
    "    df[\"is_wknd\"] = (df.date.dt.weekday // 4).astype(\"int8\")\n",
    "    df[\"quarter\"] = df.date.dt.quarter.astype(\"int8\")\n",
    "    df['is_month_start'] = df.date.dt.is_month_start.astype(\"int8\")\n",
    "    df['is_month_end'] = df.date.dt.is_month_end.astype(\"int8\")\n",
    "    df['is_quarter_start'] = df.date.dt.is_quarter_start.astype(\"int8\")\n",
    "    df['is_quarter_end'] = df.date.dt.is_quarter_end.astype(\"int8\")\n",
    "    df['is_year_start'] = df.date.dt.is_year_start.astype(\"int8\")\n",
    "    df['is_year_end'] = df.date.dt.is_year_end.astype(\"int8\")\n",
    "    df[\"season\"] = np.where(df.month.isin([12,1,2]), 0, 1)\n",
    "    df[\"season\"] = np.where(df.month.isin([6,7,8]), 2, df[\"season\"])\n",
    "    df[\"season\"] = pd.Series(np.where(df.month.isin([9, 10, 11]), 3, df[\"season\"])).astype(\"int8\")\n",
    "    return df\n",
    "\n",
    "d = create_date_features(d)\n",
    "\n",
    "\n",
    "\n",
    "\n",
    "# Workday column\n",
    "d[\"workday\"] = np.where((d.holiday_national_binary == 1) | (d.holiday_local_binary==1) | (d.holiday_regional_binary==1) | (d['day_of_week'].isin([6,7])), 0, 1)\n",
    "d[\"workday\"] = pd.Series(np.where(d.IsWorkDay.notnull(), 1, d[\"workday\"])).astype(\"int8\")\n",
    "d.drop(\"IsWorkDay\", axis = 1, inplace = True)\n",
    "\n",
    "# Wages in the public sector are paid every two weeks on the 15 th and on the last day of the month. \n",
    "# Supermarket sales could be affected by this.\n",
    "d[\"wageday\"] = pd.Series(np.where((d['is_month_end'] == 1) | (d[\"day_of_month\"] == 15), 1, 0)).astype(\"int8\")\n",
    "\n",
    "d.head(15)"
   ]
  },
  {
   "cell_type": "markdown",
   "id": "3e990dfb",
   "metadata": {
    "papermill": {
     "duration": 0.32985,
     "end_time": "2021-10-30T21:40:04.442723",
     "exception": false,
     "start_time": "2021-10-30T21:40:04.112873",
     "status": "completed"
    },
    "tags": []
   },
   "source": [
    "# 8. Did Earhquake affect the store sales?\n",
    "\n",
    "A magnitude 7.8 earthquake struck Ecuador on April 16, 2016. People rallied in relief efforts donating water and other first need products which greatly affected supermarket sales for several weeks after the earthquake.\n",
    "\n",
    "Comparing average sales by year, month and product family will be one of the best ways to be able to understand how earthquake had affected the store sales.\n",
    "\n",
    "We can use the data of March, April, May and June and there may be increasing or decrasing sales for some product families.\n",
    "\n",
    "Lastly, we extracted a column for earthquake from Holidays and Events data. **\"events_Terremoto_Manabi\"** column will help to fit a better model."
   ]
  },
  {
   "cell_type": "code",
   "execution_count": null,
   "id": "5cb09a0a",
   "metadata": {
    "_kg_hide-input": false,
    "execution": {
     "iopub.execute_input": "2021-10-30T21:40:05.132036Z",
     "iopub.status.busy": "2021-10-30T21:40:05.128391Z",
     "iopub.status.idle": "2021-10-30T21:40:05.370206Z",
     "shell.execute_reply": "2021-10-30T21:40:05.369655Z",
     "shell.execute_reply.started": "2021-10-30T20:21:29.131377Z"
    },
    "papermill": {
     "duration": 0.587164,
     "end_time": "2021-10-30T21:40:05.370360",
     "exception": false,
     "start_time": "2021-10-30T21:40:04.783196",
     "status": "completed"
    },
    "tags": []
   },
   "outputs": [],
   "source": [
    "d[(d.month.isin([4,5]))].groupby([\"year\"]).sales.mean()"
   ]
  },
  {
   "cell_type": "markdown",
   "id": "a14eec7d",
   "metadata": {
    "papermill": {
     "duration": 0.339908,
     "end_time": "2021-10-30T21:40:06.052576",
     "exception": false,
     "start_time": "2021-10-30T21:40:05.712668",
     "status": "completed"
    },
    "tags": []
   },
   "source": [
    "### March"
   ]
  },
  {
   "cell_type": "code",
   "execution_count": null,
   "id": "3784850a",
   "metadata": {
    "_kg_hide-input": true,
    "execution": {
     "iopub.execute_input": "2021-10-30T21:40:06.737070Z",
     "iopub.status.busy": "2021-10-30T21:40:06.735996Z",
     "iopub.status.idle": "2021-10-30T21:40:06.844419Z",
     "shell.execute_reply": "2021-10-30T21:40:06.844970Z",
     "shell.execute_reply.started": "2021-10-30T20:21:29.431240Z"
    },
    "jupyter": {
     "source_hidden": true
    },
    "papermill": {
     "duration": 0.453095,
     "end_time": "2021-10-30T21:40:06.845151",
     "exception": false,
     "start_time": "2021-10-30T21:40:06.392056",
     "status": "completed"
    },
    "tags": []
   },
   "outputs": [],
   "source": [
    "pd.pivot_table(d[(d.month.isin([3]))], index=\"year\", columns=\"family\", values=\"sales\", aggfunc=\"mean\")"
   ]
  },
  {
   "cell_type": "markdown",
   "id": "0cc0cbf4",
   "metadata": {
    "papermill": {
     "duration": 0.330439,
     "end_time": "2021-10-30T21:40:07.514875",
     "exception": false,
     "start_time": "2021-10-30T21:40:07.184436",
     "status": "completed"
    },
    "tags": []
   },
   "source": [
    "### April - May"
   ]
  },
  {
   "cell_type": "code",
   "execution_count": null,
   "id": "5dae7960",
   "metadata": {
    "_kg_hide-input": true,
    "execution": {
     "iopub.execute_input": "2021-10-30T21:40:08.227975Z",
     "iopub.status.busy": "2021-10-30T21:40:08.226917Z",
     "iopub.status.idle": "2021-10-30T21:40:08.387099Z",
     "shell.execute_reply": "2021-10-30T21:40:08.387756Z",
     "shell.execute_reply.started": "2021-10-30T20:21:29.571606Z"
    },
    "jupyter": {
     "source_hidden": true
    },
    "papermill": {
     "duration": 0.531267,
     "end_time": "2021-10-30T21:40:08.387933",
     "exception": false,
     "start_time": "2021-10-30T21:40:07.856666",
     "status": "completed"
    },
    "tags": []
   },
   "outputs": [],
   "source": [
    "pd.pivot_table(d[(d.month.isin([4,5]))], index=\"year\", columns=\"family\", values=\"sales\", aggfunc=\"mean\")"
   ]
  },
  {
   "cell_type": "markdown",
   "id": "df318e0d",
   "metadata": {
    "papermill": {
     "duration": 0.340811,
     "end_time": "2021-10-30T21:40:09.085648",
     "exception": false,
     "start_time": "2021-10-30T21:40:08.744837",
     "status": "completed"
    },
    "tags": []
   },
   "source": [
    "### June"
   ]
  },
  {
   "cell_type": "code",
   "execution_count": null,
   "id": "eb42f7c1",
   "metadata": {
    "_kg_hide-input": true,
    "execution": {
     "iopub.execute_input": "2021-10-30T21:40:09.870353Z",
     "iopub.status.busy": "2021-10-30T21:40:09.869491Z",
     "iopub.status.idle": "2021-10-30T21:40:09.974668Z",
     "shell.execute_reply": "2021-10-30T21:40:09.975281Z",
     "shell.execute_reply.started": "2021-10-30T20:21:29.769706Z"
    },
    "jupyter": {
     "source_hidden": true
    },
    "papermill": {
     "duration": 0.464993,
     "end_time": "2021-10-30T21:40:09.975455",
     "exception": false,
     "start_time": "2021-10-30T21:40:09.510462",
     "status": "completed"
    },
    "tags": []
   },
   "outputs": [],
   "source": [
    "pd.pivot_table(d[(d.month.isin([6]))], index=\"year\", columns=\"family\", values=\"sales\", aggfunc=\"mean\")"
   ]
  },
  {
   "cell_type": "code",
   "execution_count": null,
   "id": "1e14f571",
   "metadata": {},
   "outputs": [],
   "source": [
    "d.head()"
   ]
  },
  {
   "cell_type": "code",
   "execution_count": null,
   "id": "a7a1919d",
   "metadata": {},
   "outputs": [],
   "source": [
    "import lightgbm as lgb\n",
    "from sklearn.model_selection import train_test_split"
   ]
  },
  {
   "cell_type": "code",
   "execution_count": null,
   "id": "0229678b",
   "metadata": {},
   "outputs": [],
   "source": [
    "d.head()"
   ]
  },
  {
   "cell_type": "code",
   "execution_count": null,
   "id": "067d37f2",
   "metadata": {},
   "outputs": [],
   "source": [
    "oil.isna().sum()\n"
   ]
  },
  {
   "cell_type": "code",
   "execution_count": null,
   "id": "c44ff566",
   "metadata": {},
   "outputs": [],
   "source": [
    "oil.head()\n"
   ]
  },
  {
   "cell_type": "code",
   "execution_count": null,
   "id": "98c9e94e",
   "metadata": {},
   "outputs": [],
   "source": [
    "\n",
    "# Merge oil prices into d\n",
    "d = d.merge(oil[['date', 'dcoilwtico_interpolated']], how='left', on='date')\n",
    "# 1. Create binary feature\n",
    "d['oil_above_70'] = (d['dcoilwtico_interpolated'] >= 70).astype('int8')\n",
    "\n",
    "# 2. Drop the original\n",
    "d = d.drop('dcoilwtico_interpolated', axis=1)\n",
    "d.head()\n"
   ]
  },
  {
   "cell_type": "code",
   "execution_count": null,
   "id": "f7e99105",
   "metadata": {},
   "outputs": [],
   "source": [
    "d['oil_above_70']"
   ]
  },
  {
   "cell_type": "code",
   "execution_count": null,
   "id": "d03e5be0",
   "metadata": {},
   "outputs": [],
   "source": [
    "def custom_log_callback(period=100):\n",
    "    def callback(env):\n",
    "        if env.iteration % period == 0:\n",
    "            train_score = env.evaluation_result_list[0][2]  # train rmse\n",
    "            valid_score = env.evaluation_result_list[1][2]  # valid rmse\n",
    "            diff = valid_score - train_score\n",
    "            print(f\"[{env.iteration}] train's rmse: {train_score:.6f} | valid's rmse: {valid_score:.6f} | GAP (valid - train): {diff:.6f}\")\n",
    "    return callback"
   ]
  },
  {
   "cell_type": "code",
   "execution_count": null,
   "id": "c5ecc303",
   "metadata": {},
   "outputs": [],
   "source": [
    "# 🛠 Import libraries\n",
    "import lightgbm as lgb\n",
    "import pandas as pd\n",
    "import numpy as np\n",
    "from sklearn.model_selection import train_test_split, GridSearchCV\n",
    "\n"
   ]
  },
  {
   "cell_type": "code",
   "execution_count": null,
   "id": "4a2d3101",
   "metadata": {},
   "outputs": [],
   "source": [
    "\n",
    "# 📌 2. Separate train/test\n",
    "train = d[d['sales'].notnull()]\n",
    "test = d[d['sales'].isnull()]\n",
    "\n",
    "# 📋 3. Feature selection\n",
    "drop_cols = ['id', 'date', 'sales']\n",
    "features = [col for col in train.columns if col not in drop_cols]\n",
    "\n",
    "# 🎯 4. Target variable (log1p-transform)\n",
    "y_train_full = np.log1p(train['sales'])\n",
    "\n",
    "X_train_full = train[features]\n",
    "X_test = test[features]\n",
    "\n",
    "# ✂️ 5. Split into training/validation\n",
    "X_train, X_valid, y_train, y_valid = train_test_split(\n",
    "    X_train_full, y_train_full, test_size=0.2, random_state=42\n",
    ")\n",
    "\n",
    "# 📦 6. LightGBM Dataset\n",
    "categorical_features = ['city', 'state', 'type', 'family', 'cluster', 'oil_above_70']\n",
    "\n",
    "train_data = lgb.Dataset(X_train, label=y_train, categorical_feature=categorical_features)\n",
    "valid_data = lgb.Dataset(X_valid, label=y_valid, reference=train_data, categorical_feature=categorical_features)\n",
    "\n",
    "# ⚙️ 7. Updated LightGBM Parameters\n",
    "params = {\n",
    "    'objective': 'regression',\n",
    "    'metric': 'rmse',\n",
    "    'boosting_type': 'gbdt',\n",
    "    'learning_rate': 0.01,        # ⬇️ Lower for smoother learning\n",
    "    'num_leaves': 128,\n",
    "    'min_data_in_leaf': 30,        # ⬆️ Slightly increase\n",
    "    'feature_fraction': 0.8,\n",
    "    'bagging_fraction': 0.8,\n",
    "    'bagging_freq': 5,\n",
    "    'lambda_l1': 1,\n",
    "    'lambda_l2': 1,\n",
    "    'seed': 42,\n",
    "    'verbosity': -1\n",
    "}\n",
    "\n",
    "# 🏋️‍♂️ 8. Train the Model\n",
    "model = lgb.train(\n",
    "    params,\n",
    "    train_data,\n",
    "    num_boost_round=10000,           # Same max limit\n",
    "    valid_sets=[train_data, valid_data],\n",
    "    valid_names=['train', 'valid'],\n",
    "    callbacks=[\n",
    "        lgb.early_stopping(stopping_rounds=100),    # Early stopping if no improvement\n",
    "        custom_log_callback(period=100)    # 👈 use our custom logger\n",
    "    ]\n",
    ")\n",
    "\n",
    "# 🧠 9. Predict on Test\n",
    "test_preds = model.predict(X_test, num_iteration=model.best_iteration)\n",
    "\n",
    "# 🔙 10. Reverse log1p\n",
    "test_preds = np.expm1(test_preds)\n",
    "\n",
    "\n",
    "print(\"✅ Finished!\")\n",
    "\n"
   ]
  },
  {
   "cell_type": "code",
   "execution_count": null,
   "id": "9854c3d8",
   "metadata": {},
   "outputs": [],
   "source": [
    "print(f\"X_train shape: {X_train.shape}\")\n",
    "print(f\"X_valid shape: {X_valid.shape}\")\n",
    "\n",
    "print(X_train.dtypes.value_counts())\n"
   ]
  },
  {
   "cell_type": "code",
   "execution_count": null,
   "id": "d8eadbc2",
   "metadata": {},
   "outputs": [],
   "source": [
    "from sklearn.metrics import mean_squared_error, mean_absolute_error, r2_score\n",
    "import numpy as np\n",
    "\n",
    "# 📊 1. Predict on Training and Validation sets\n",
    "train_preds = model.predict(X_train, num_iteration=model.best_iteration)\n",
    "valid_preds = model.predict(X_valid, num_iteration=model.best_iteration)\n",
    "\n",
    "# 📈 2. Reverse log1p transform\n",
    "train_preds = np.expm1(train_preds)\n",
    "train_labels = np.expm1(y_train)\n",
    "\n",
    "valid_preds = np.expm1(valid_preds)\n",
    "valid_labels = np.expm1(y_valid)\n",
    "\n",
    "# 📏 3. Compute Metrics\n",
    "# --- Train Metrics ---\n",
    "train_rmse = np.sqrt(mean_squared_error(train_labels, train_preds))\n",
    "train_mae = mean_absolute_error(train_labels, train_preds)\n",
    "train_r2 = r2_score(train_labels, train_preds)\n",
    "\n",
    "# --- Validation Metrics ---\n",
    "valid_rmse = np.sqrt(mean_squared_error(valid_labels, valid_preds))\n",
    "valid_mae = mean_absolute_error(valid_labels, valid_preds)\n",
    "valid_r2 = r2_score(valid_labels, valid_preds)\n",
    "\n",
    "# 🖨️ 4. Print\n",
    "print(\"🏋️‍♂️ Train Metrics:\")\n",
    "print(f\"   RMSE: {train_rmse:.5f}\")\n",
    "print(f\"   MAE:  {train_mae:.5f}\")\n",
    "print(f\"   R²:   {train_r2:.5f}\")\n",
    "\n",
    "print(\"\\n🎯 Validation Metrics:\")\n",
    "print(f\"   RMSE: {valid_rmse:.5f}\")\n",
    "print(f\"   MAE:  {valid_mae:.5f}\")\n",
    "print(f\"   R²:   {valid_r2:.5f}\")\n"
   ]
  },
  {
   "cell_type": "markdown",
   "id": "9d206e20",
   "metadata": {},
   "source": [
    "Using Normalized RMSE = RMSE / (max value – min value)\n"
   ]
  },
  {
   "cell_type": "code",
   "execution_count": null,
   "id": "2ab82108",
   "metadata": {},
   "outputs": [],
   "source": [
    "# 🔥 4. Normalize RMSE\n",
    "sales_max = train_labels.max()  # could also use full sales from all train, if you prefer\n",
    "sales_min = train_labels.min()\n",
    "range_sales = sales_max - sales_min\n",
    "\n",
    "\n",
    "train_rmse_normalized = train_rmse / range_sales\n",
    "valid_rmse_normalized = valid_rmse / range_sales\n",
    "\n",
    "# 🖨️ 5. Print\n",
    "print(f\"   Normalized RMSE Train: {train_rmse_normalized:.5f}\")\n",
    "\n",
    "print(f\"   Normalized RMSE Validation: {valid_rmse_normalized:.5f}\")\n"
   ]
  },
  {
   "cell_type": "code",
   "execution_count": null,
   "id": "13000baf",
   "metadata": {},
   "outputs": [],
   "source": [
    "# 📋 Reverse log1p on train sales\n",
    "real_sales = np.expm1(y_train_full)\n",
    "\n",
    "# 📈 Sales range and statistics\n",
    "print(f\"Sales Min: {real_sales.min():.2f}\")\n",
    "print(f\"Sales Max: {real_sales.max():.2f}\")\n",
    "print(f\"Sales Mean: {real_sales.mean():.2f}\")\n",
    "print(f\"Sales Median: {np.median(real_sales):.2f}\")\n",
    "print(f\"Sales Std: {real_sales.std():.2f}\")\n"
   ]
  },
  {
   "cell_type": "code",
   "execution_count": null,
   "id": "9865868e",
   "metadata": {},
   "outputs": [],
   "source": [
    "import os\n",
    "print(os.getcwd())\n"
   ]
  },
  {
   "cell_type": "code",
   "execution_count": null,
   "id": "381e0843",
   "metadata": {},
   "outputs": [],
   "source": [
    "# Save model to a file\n",
    "model.save_model('lgb_model.txt')"
   ]
  },
  {
   "cell_type": "code",
   "execution_count": null,
   "id": "7ed0882d",
   "metadata": {},
   "outputs": [],
   "source": [
    "import matplotlib.pyplot as plt\n",
    "import seaborn as sns\n",
    "\n",
    "# 📊 Plot Sales Distribution\n",
    "plt.figure(figsize=(10, 6))\n",
    "sns.histplot(train['sales'], bins=100, kde=True, color='blue')\n",
    "plt.title('Sales Distribution')\n",
    "plt.xlabel('Sales')\n",
    "plt.ylabel('Frequency')\n",
    "plt.grid(True)\n",
    "plt.show()\n"
   ]
  },
  {
   "cell_type": "code",
   "execution_count": null,
   "id": "1f94cc7c",
   "metadata": {},
   "outputs": [],
   "source": [
    "# 📊 Plot Log1p(Sales) Distribution\n",
    "plt.figure(figsize=(10, 6))\n",
    "sns.histplot(np.log1p(train['sales']), bins=100, kde=True, color='green')\n",
    "plt.title('Log1p(Sales) Distribution')\n",
    "plt.xlabel('log(1 + Sales)')\n",
    "plt.ylabel('Frequency')\n",
    "plt.grid(True)\n",
    "plt.show()\n"
   ]
  }
 ],
 "metadata": {
  "kernelspec": {
   "display_name": "env",
   "language": "python",
   "name": "python3"
  },
  "language_info": {
   "codemirror_mode": {
    "name": "ipython",
    "version": 3
   },
   "file_extension": ".py",
   "mimetype": "text/x-python",
   "name": "python",
   "nbconvert_exporter": "python",
   "pygments_lexer": "ipython3",
   "version": "3.13.3"
  },
  "papermill": {
   "default_parameters": {},
   "duration": 618.101059,
   "end_time": "2021-10-30T21:43:42.269863",
   "environment_variables": {},
   "exception": null,
   "input_path": "__notebook__.ipynb",
   "output_path": "__notebook__.ipynb",
   "parameters": {},
   "start_time": "2021-10-30T21:33:24.168804",
   "version": "2.3.3"
  }
 },
 "nbformat": 4,
 "nbformat_minor": 5
}
