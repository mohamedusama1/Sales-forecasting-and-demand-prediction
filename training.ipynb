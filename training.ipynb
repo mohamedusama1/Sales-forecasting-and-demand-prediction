{
 "cells": [
  {
   "cell_type": "code",
   "execution_count": 14,
   "id": "5c62eaee",
   "metadata": {},
   "outputs": [],
   "source": [
    "def custom_log_callback(period=100):\n",
    "    def callback(env):\n",
    "        if env.iteration % period == 0:\n",
    "            train_score = env.evaluation_result_list[0][2]  # train rmse\n",
    "            valid_score = env.evaluation_result_list[1][2]  # valid rmse\n",
    "            diff = valid_score - train_score\n",
    "            print(f\"[{env.iteration}] train's rmse: {train_score:.6f} | valid's rmse: {valid_score:.6f} | GAP (valid - train): {diff:.6f}\")\n",
    "    return callback"
   ]
  },
  {
   "cell_type": "code",
   "execution_count": 15,
   "id": "49ea56b8",
   "metadata": {},
   "outputs": [],
   "source": [
    "# 🛠 Import libraries\n",
    "import lightgbm as lgb\n",
    "import pandas as pd\n",
    "import numpy as np\n",
    "from sklearn.model_selection import train_test_split, GridSearchCV\n",
    "\n"
   ]
  },
  {
   "cell_type": "code",
   "execution_count": 16,
   "id": "85cb24de",
   "metadata": {},
   "outputs": [
    {
     "name": "stderr",
     "output_type": "stream",
     "text": [
      "/var/folders/fs/pzssfwd526z67fvf56xm0lsw0000gn/T/ipykernel_31551/3771494508.py:1: DtypeWarning: Columns (10) have mixed types. Specify dtype option on import or set low_memory=False.\n",
      "  df=pd.read_csv('train_preprocessed.csv')\n"
     ]
    }
   ],
   "source": [
    "df=pd.read_csv('train_preprocessed.csv')"
   ]
  },
  {
   "cell_type": "code",
   "execution_count": 17,
   "id": "5b5c4414",
   "metadata": {},
   "outputs": [
    {
     "name": "stdout",
     "output_type": "stream",
     "text": [
      "Object-dtype columns: ['date', 'family', 'city', 'state', 'type', 'IsWorkDay']\n",
      "\n",
      "--- date (object) ---\n",
      "Unique values: ['2013-01-01' '2013-01-02' '2013-01-03' '2013-01-04' '2013-01-05'\n",
      " '2013-01-06' '2013-01-07' '2013-01-08' '2013-01-09' '2013-01-10']\n",
      "Sample rows where it's not numeric/bool:\n"
     ]
    },
    {
     "data": {
      "text/plain": [
       "0    2013-01-01\n",
       "1    2013-01-01\n",
       "2    2013-01-01\n",
       "3    2013-01-01\n",
       "4    2013-01-01\n",
       "Name: date, dtype: object"
      ]
     },
     "metadata": {},
     "output_type": "display_data"
    },
    {
     "name": "stdout",
     "output_type": "stream",
     "text": [
      "\n",
      "--- family (object) ---\n",
      "Unique values: ['AUTOMOTIVE' 'BABY CARE' 'BEAUTY' 'BEVERAGES' 'BOOKS' 'BREAD/BAKERY'\n",
      " 'CELEBRATION' 'CLEANING' 'DAIRY' 'DELI']\n",
      "Sample rows where it's not numeric/bool:\n"
     ]
    },
    {
     "data": {
      "text/plain": [
       "0    AUTOMOTIVE\n",
       "1     BABY CARE\n",
       "2        BEAUTY\n",
       "3     BEVERAGES\n",
       "4         BOOKS\n",
       "Name: family, dtype: object"
      ]
     },
     "metadata": {},
     "output_type": "display_data"
    },
    {
     "name": "stdout",
     "output_type": "stream",
     "text": [
      "\n",
      "--- city (object) ---\n",
      "Unique values: ['Quito' 'Cayambe' 'Latacunga' 'Riobamba' 'Ibarra' 'Santo Domingo'\n",
      " 'Guaranda' 'Puyo' 'Ambato' 'Guayaquil']\n",
      "Sample rows where it's not numeric/bool:\n"
     ]
    },
    {
     "data": {
      "text/plain": [
       "0    Quito\n",
       "1    Quito\n",
       "2    Quito\n",
       "3    Quito\n",
       "4    Quito\n",
       "Name: city, dtype: object"
      ]
     },
     "metadata": {},
     "output_type": "display_data"
    },
    {
     "name": "stdout",
     "output_type": "stream",
     "text": [
      "\n",
      "--- state (object) ---\n",
      "Unique values: ['Pichincha' 'Cotopaxi' 'Chimborazo' 'Imbabura'\n",
      " 'Santo Domingo de los Tsachilas' 'Bolivar' 'Pastaza' 'Tungurahua'\n",
      " 'Guayas' 'Santa Elena']\n",
      "Sample rows where it's not numeric/bool:\n"
     ]
    },
    {
     "data": {
      "text/plain": [
       "0    Pichincha\n",
       "1    Pichincha\n",
       "2    Pichincha\n",
       "3    Pichincha\n",
       "4    Pichincha\n",
       "Name: state, dtype: object"
      ]
     },
     "metadata": {},
     "output_type": "display_data"
    },
    {
     "name": "stdout",
     "output_type": "stream",
     "text": [
      "\n",
      "--- type (object) ---\n",
      "Unique values: ['D' 'C' 'B' 'E' 'A']\n",
      "Sample rows where it's not numeric/bool:\n"
     ]
    },
    {
     "data": {
      "text/plain": [
       "0    D\n",
       "1    D\n",
       "2    D\n",
       "3    D\n",
       "4    D\n",
       "Name: type, dtype: object"
      ]
     },
     "metadata": {},
     "output_type": "display_data"
    },
    {
     "name": "stdout",
     "output_type": "stream",
     "text": [
      "\n",
      "--- IsWorkDay (object) ---\n",
      "Unique values: ['Work Day']\n",
      "Sample rows where it's not numeric/bool:\n"
     ]
    },
    {
     "data": {
      "text/plain": [
       "7128    Work Day\n",
       "7129    Work Day\n",
       "7130    Work Day\n",
       "7131    Work Day\n",
       "7132    Work Day\n",
       "Name: IsWorkDay, dtype: object"
      ]
     },
     "metadata": {},
     "output_type": "display_data"
    },
    {
     "name": "stdout",
     "output_type": "stream",
     "text": [
      "\n",
      "DataFrame info:\n",
      "<class 'pandas.core.frame.DataFrame'>\n",
      "RangeIndex: 3002670 entries, 0 to 3002669\n",
      "Data columns (total 84 columns):\n",
      " #   Column                                               Dtype  \n",
      "---  ------                                               -----  \n",
      " 0   id                                                   int64  \n",
      " 1   date                                                 object \n",
      " 2   store_nbr                                            int64  \n",
      " 3   family                                               object \n",
      " 4   sales                                                float64\n",
      " 5   onpromotion                                          int64  \n",
      " 6   city                                                 object \n",
      " 7   state                                                object \n",
      " 8   type                                                 object \n",
      " 9   cluster                                              int64  \n",
      " 10  IsWorkDay                                            object \n",
      " 11  events_Black_Friday                                  int64  \n",
      " 12  events_Cyber_Monday                                  int64  \n",
      " 13  events_Dia_de_la_Madre                               int64  \n",
      " 14  events_Futbol                                        int64  \n",
      " 15  events_Terremoto_Manabi                              int64  \n",
      " 16  events_nan                                           int64  \n",
      " 17  holiday_national_binary                              int64  \n",
      " 18  holiday_local_binary                                 int64  \n",
      " 19  holiday_regional_binary                              int64  \n",
      " 20  national_independence                                int64  \n",
      " 21  local_cantonizacio                                   int64  \n",
      " 22  local_fundacion                                      int64  \n",
      " 23  local_independencia                                  int64  \n",
      " 24  holiday_national_                                    int64  \n",
      " 25  holiday_national_Batalla_de_Pichincha                int64  \n",
      " 26  holiday_national_Carnaval                            int64  \n",
      " 27  holiday_national_Dia_de_Difuntos                     int64  \n",
      " 28  holiday_national_Dia_de_la_Madre                     int64  \n",
      " 29  holiday_national_Dia_del_Trabajo                     int64  \n",
      " 30  holiday_national_Independencia_de_Cuenca             int64  \n",
      " 31  holiday_national_Independencia_de_Guayaquil          int64  \n",
      " 32  holiday_national_Navidad                             int64  \n",
      " 33  holiday_national_Primer_Grito_de_Independencia       int64  \n",
      " 34  holiday_national_Primer_dia_del_ano                  int64  \n",
      " 35  holiday_national_Viernes_Santo                       int64  \n",
      " 36  holiday_regional_                                    int64  \n",
      " 37  holiday_regional_Provincializacion_Santa_Elena       int64  \n",
      " 38  holiday_regional_Provincializacion_de_Cotopaxi       int64  \n",
      " 39  holiday_regional_Provincializacion_de_Imbabura       int64  \n",
      " 40  holiday_regional_Provincializacion_de_Santo_Domingo  int64  \n",
      " 41  holiday_local_                                       int64  \n",
      " 42  holiday_local_Cantonizacion_de_Cayambe               int64  \n",
      " 43  holiday_local_Cantonizacion_de_El_Carmen             int64  \n",
      " 44  holiday_local_Cantonizacion_de_Guaranda              int64  \n",
      " 45  holiday_local_Cantonizacion_de_Latacunga             int64  \n",
      " 46  holiday_local_Cantonizacion_de_Libertad              int64  \n",
      " 47  holiday_local_Cantonizacion_de_Quevedo               int64  \n",
      " 48  holiday_local_Cantonizacion_de_Riobamba              int64  \n",
      " 49  holiday_local_Cantonizacion_de_Salinas               int64  \n",
      " 50  holiday_local_Cantonizacion_del_Puyo                 int64  \n",
      " 51  holiday_local_Fundacion_de_Ambato                    int64  \n",
      " 52  holiday_local_Fundacion_de_Cuenca                    int64  \n",
      " 53  holiday_local_Fundacion_de_Esmeraldas                int64  \n",
      " 54  holiday_local_Fundacion_de_Guayaquil                 int64  \n",
      " 55  holiday_local_Fundacion_de_Ibarra                    int64  \n",
      " 56  holiday_local_Fundacion_de_Loja                      int64  \n",
      " 57  holiday_local_Fundacion_de_Machala                   int64  \n",
      " 58  holiday_local_Fundacion_de_Manta                     int64  \n",
      " 59  holiday_local_Fundacion_de_Quito                     int64  \n",
      " 60  holiday_local_Fundacion_de_Riobamba                  int64  \n",
      " 61  holiday_local_Fundacion_de_Santo_Domingo             int64  \n",
      " 62  holiday_local_Independencia_de_Ambato                int64  \n",
      " 63  holiday_local_Independencia_de_Guaranda              int64  \n",
      " 64  holiday_local_Independencia_de_Latacunga             int64  \n",
      " 65  month                                                int64  \n",
      " 66  day_of_month                                         int64  \n",
      " 67  day_of_year                                          int64  \n",
      " 68  week_of_month                                        int64  \n",
      " 69  week_of_year                                         int64  \n",
      " 70  day_of_week                                          int64  \n",
      " 71  year                                                 int64  \n",
      " 72  is_wknd                                              int64  \n",
      " 73  quarter                                              int64  \n",
      " 74  is_month_start                                       int64  \n",
      " 75  is_month_end                                         int64  \n",
      " 76  is_quarter_start                                     int64  \n",
      " 77  is_quarter_end                                       int64  \n",
      " 78  is_year_start                                        int64  \n",
      " 79  is_year_end                                          int64  \n",
      " 80  season                                               int64  \n",
      " 81  oil_above_70                                         int64  \n",
      " 82  workday                                              int64  \n",
      " 83  wageday                                              int64  \n",
      "dtypes: float64(1), int64(77), object(6)\n",
      "memory usage: 1.9+ GB\n"
     ]
    }
   ],
   "source": [
    "# 1️⃣ List all object-dtype columns\n",
    "obj_cols = df.select_dtypes(include=['object']).columns.tolist()\n",
    "print(\"Object-dtype columns:\", obj_cols)\n",
    "\n",
    "# 2️⃣ For each, inspect its dtype and a few sample values\n",
    "for col in obj_cols:\n",
    "    print(f\"\\n--- {col} ({df[col].dtype}) ---\")\n",
    "    print(\"Unique values:\", df[col].dropna().unique()[:10])\n",
    "    print(\"Sample rows where it's not numeric/bool:\")\n",
    "    display(df[df[col].notnull() & ~df[col].apply(lambda x: isinstance(x, (int, float, bool)))][col].head())\n",
    "    \n",
    "# 3️⃣ Get a quick summary of your full DataFrame dtypes\n",
    "print(\"\\nDataFrame info:\")\n",
    "df.info()\n"
   ]
  },
  {
   "cell_type": "code",
   "execution_count": 19,
   "id": "acccf0f9",
   "metadata": {},
   "outputs": [
    {
     "name": "stderr",
     "output_type": "stream",
     "text": [
      "/var/folders/fs/pzssfwd526z67fvf56xm0lsw0000gn/T/ipykernel_31551/1268831433.py:6: DtypeWarning: Columns (10) have mixed types. Specify dtype option on import or set low_memory=False.\n",
      "  df = pd.read_csv('train_preprocessed.csv')  # adjust parse_dates if you want\n"
     ]
    },
    {
     "name": "stdout",
     "output_type": "stream",
     "text": [
      "\n",
      ">>> In X_train, object‐dtype columns: ['family', 'city', 'state', 'type', 'IsWorkDay']\n",
      "\n",
      "── Column: family ──\n",
      "Type counts:\n",
      "family\n",
      "<class 'str'>    2402136\n",
      "Sample values: ['BEAUTY' 'FROZEN FOODS' 'PRODUCE' 'PERSONAL CARE' 'LADIESWEAR'\n",
      " 'PLAYERS AND ELECTRONICS' 'HOME APPLIANCES' 'DAIRY' 'MEATS'\n",
      " 'LIQUOR,WINE,BEER']\n",
      "\n",
      "── Column: city ──\n",
      "Type counts:\n",
      "city\n",
      "<class 'str'>    2402136\n",
      "Sample values: ['Daule' 'Quito' 'Santo Domingo' 'Babahoyo' 'Manta' 'Guayaquil' 'Ibarra'\n",
      " 'Esmeraldas' 'Puyo' 'Machala']\n",
      "\n",
      "── Column: state ──\n",
      "Type counts:\n",
      "state\n",
      "<class 'str'>    2402136\n",
      "Sample values: ['Guayas' 'Pichincha' 'Santo Domingo de los Tsachilas' 'Los Rios' 'Manabi'\n",
      " 'Imbabura' 'Esmeraldas' 'Pastaza' 'El Oro' 'Azuay']\n",
      "\n",
      "── Column: type ──\n",
      "Type counts:\n",
      "type\n",
      "<class 'str'>    2402136\n",
      "Sample values: ['D' 'C' 'B' 'E' 'A']\n",
      "\n",
      "── Column: IsWorkDay ──\n",
      "Type counts:\n",
      "IsWorkDay\n",
      "<class 'float'>    2395017\n",
      "<class 'str'>         7119\n",
      "Sample values: ['Work Day']\n",
      "\n",
      ">>> In X_valid, object‐dtype columns: ['family', 'city', 'state', 'type', 'IsWorkDay']\n",
      "\n",
      "── Column: family ──\n",
      "Type counts:\n",
      "family\n",
      "<class 'str'>    600534\n",
      "Sample values: ['CELEBRATION' 'MAGAZINES' 'HOME AND KITCHEN II' 'DAIRY' 'BEVERAGES'\n",
      " 'POULTRY' 'GROCERY II' 'PLAYERS AND ELECTRONICS' 'PERSONAL CARE'\n",
      " 'FROZEN FOODS']\n",
      "\n",
      "── Column: city ──\n",
      "Type counts:\n",
      "city\n",
      "<class 'str'>    600534\n",
      "Sample values: ['Guayaquil' 'Quito' 'Daule' 'Babahoyo' 'Cayambe' 'Riobamba' 'Ambato'\n",
      " 'Santo Domingo' 'Cuenca' 'El Carmen']\n",
      "\n",
      "── Column: state ──\n",
      "Type counts:\n",
      "state\n",
      "<class 'str'>    600534\n",
      "Sample values: ['Guayas' 'Pichincha' 'Los Rios' 'Chimborazo' 'Tungurahua'\n",
      " 'Santo Domingo de los Tsachilas' 'Azuay' 'Manabi' 'Loja' 'Cotopaxi']\n",
      "\n",
      "── Column: type ──\n",
      "Type counts:\n",
      "type\n",
      "<class 'str'>    600534\n",
      "Sample values: ['C' 'D' 'B' 'A' 'E']\n",
      "\n",
      "── Column: IsWorkDay ──\n",
      "Type counts:\n",
      "IsWorkDay\n",
      "<class 'float'>    598743\n",
      "<class 'str'>        1791\n",
      "Sample values: ['Work Day']\n"
     ]
    }
   ],
   "source": [
    "import pandas as pd\n",
    "import numpy as np\n",
    "from sklearn.model_selection import train_test_split\n",
    "\n",
    "# ─── 0) Load your preprocessed data ─────────────────────────────────────────────\n",
    "df = pd.read_csv('train_preprocessed.csv')  # adjust parse_dates if you want\n",
    "\n",
    "# ─── 1) Separate train/test ────────────────────────────────────────────────────\n",
    "train = df[df['sales'].notnull()]\n",
    "test  = df[df['sales'].isnull()]\n",
    "\n",
    "# ─── 2) Feature selection ──────────────────────────────────────────────────────\n",
    "drop_cols = ['id', 'date', 'sales']\n",
    "features  = [c for c in train.columns if c not in drop_cols]\n",
    "\n",
    "# ─── 3) Target & splits ───────────────────────────────────────────────────────\n",
    "y_full     = np.log1p(train['sales'])\n",
    "X_full     = train[features]\n",
    "X_test     = test[features]\n",
    "\n",
    "X_train, X_valid, y_train, y_valid = train_test_split(\n",
    "    X_full, y_full, test_size=0.2, random_state=42\n",
    ")\n",
    "\n",
    "# ─── 4) Inspect object‐dtype columns ────────────────────────────────────────────\n",
    "\n",
    "def inspect_object_columns(df, name):\n",
    "    objs = df.select_dtypes(include=['object']).columns.tolist()\n",
    "    print(f\"\\n>>> In {name}, object‐dtype columns: {objs}\")\n",
    "    for col in objs:\n",
    "        print(f\"\\n── Column: {col} ──\")\n",
    "        # 1) what Python types show up?\n",
    "        type_counts = df[col].map(type).value_counts()\n",
    "        print(\"Type counts:\")\n",
    "        print(type_counts.to_string())\n",
    "        # 2) sample unique values\n",
    "        samples = df[col].dropna().unique()[:10]\n",
    "        print(\"Sample values:\", samples)\n",
    "\n",
    "inspect_object_columns(X_train, 'X_train')\n",
    "inspect_object_columns(X_valid, 'X_valid')\n"
   ]
  },
  {
   "cell_type": "code",
   "execution_count": 20,
   "id": "c4c629e5",
   "metadata": {},
   "outputs": [
    {
     "name": "stdout",
     "output_type": "stream",
     "text": [
      "X_train: 7119 rows == 'Work Day', 4790034 rows float/NaN\n",
      "X_valid: 1791 rows == 'Work Day', 1197486 rows float/NaN\n",
      "X_test: 0 rows == 'Work Day', 0 rows float/NaN\n",
      "Remaining object columns in X_train: []\n",
      "Remaining object columns in X_valid: []\n"
     ]
    }
   ],
   "source": [
    "# ─── assume you’ve already done your splits: X_train, X_valid, X_test\n",
    "# and defined: categorical_features = ['city','state','type','family','cluster','oil_above_70','IsWorkDay']\n",
    "\n",
    "# 1) Spot the bad values in IsWorkDay\n",
    "for name, df_ in [('X_train', X_train), ('X_valid', X_valid), ('X_test', X_test)]:\n",
    "    n_str = (df_['IsWorkDay'] == 'Work Day').sum()\n",
    "    n_other = df_['IsWorkDay'].isna().sum() + df_['IsWorkDay'].apply(lambda x: isinstance(x, float)).sum()\n",
    "    print(f\"{name}: {n_str} rows == 'Work Day', {n_other} rows float/NaN\")\n",
    "\n",
    "# 2) Clean & cast IsWorkDay → int8\n",
    "for df_ in (X_train, X_valid, X_test):\n",
    "    df_['IsWorkDay'] = df_['IsWorkDay'].map({\n",
    "        'Work Day': 1,    # your string label → 1\n",
    "        True:        1,    # just in case any True\n",
    "        False:       0     # just in case any False\n",
    "    }).fillna(0).astype('int8')\n",
    "\n",
    "# 3) Cast the rest of your categoricals\n",
    "true_cats = ['city','state','type','family','cluster','oil_above_70','IsWorkDay']\n",
    "for df_ in (X_train, X_valid, X_test):\n",
    "    for c in true_cats:\n",
    "        df_[c] = df_[c].astype('category')\n",
    "\n",
    "# 4) Verify no more object dtypes\n",
    "print(\"Remaining object columns in X_train:\", X_train.select_dtypes(include=['object']).columns.tolist())\n",
    "print(\"Remaining object columns in X_valid:\", X_valid.select_dtypes(include=['object']).columns.tolist())\n",
    "\n",
    "# 5) Now build your LightGBM datasets without error\n",
    "train_data = lgb.Dataset(X_train, label=y_train, categorical_feature=true_cats, free_raw_data=False)\n",
    "valid_data = lgb.Dataset(X_valid, label=y_valid, reference=train_data, categorical_feature=true_cats)\n"
   ]
  },
  {
   "cell_type": "code",
   "execution_count": 21,
   "id": "4a487189",
   "metadata": {},
   "outputs": [
    {
     "name": "stdout",
     "output_type": "stream",
     "text": [
      "[0] train's rmse: 2.671442 | valid's rmse: 2.671656 | GAP (valid - train): 0.000214\n",
      "Training until validation scores don't improve for 100 rounds\n",
      "Did not meet early stopping. Best iteration is:\n",
      "[100]\ttrain's rmse: 1.31965\tvalid's rmse: 1.32036\n"
     ]
    }
   ],
   "source": [
    "# ⚙️ 7. Updated LightGBM Parameters\n",
    "params = {\n",
    "    'objective': 'regression',\n",
    "    'metric': 'rmse',\n",
    "    'boosting_type': 'gbdt',\n",
    "    'learning_rate': 0.01,        # ⬇️ Lower for smoother learning\n",
    "    'num_leaves': 128,\n",
    "    'min_data_in_leaf': 30,        # ⬆️ Slightly increase\n",
    "    'feature_fraction': 0.8,\n",
    "    'bagging_fraction': 0.8,\n",
    "    'bagging_freq': 5,\n",
    "    'lambda_l1': 1,\n",
    "    'lambda_l2': 1,\n",
    "    'seed': 42,\n",
    "    'verbosity': -1\n",
    "}\n",
    "\n",
    "# 🏋️‍♂️ 8. Train the Model\n",
    "model = lgb.train(\n",
    "    params,\n",
    "    train_data,\n",
    "    num_boost_round=100,           # Same max limit\n",
    "    valid_sets=[train_data, valid_data],\n",
    "    valid_names=['train', 'valid'],\n",
    "    callbacks=[\n",
    "        lgb.early_stopping(stopping_rounds=100),    # Early stopping if no improvement\n",
    "        custom_log_callback(period=100)    # 👈 use our custom logger\n",
    "    ]\n",
    ")\n",
    "\n",
    "\n",
    "\n"
   ]
  }
 ],
 "metadata": {
  "kernelspec": {
   "display_name": "env",
   "language": "python",
   "name": "python3"
  },
  "language_info": {
   "codemirror_mode": {
    "name": "ipython",
    "version": 3
   },
   "file_extension": ".py",
   "mimetype": "text/x-python",
   "name": "python",
   "nbconvert_exporter": "python",
   "pygments_lexer": "ipython3",
   "version": "3.13.3"
  }
 },
 "nbformat": 4,
 "nbformat_minor": 5
}
